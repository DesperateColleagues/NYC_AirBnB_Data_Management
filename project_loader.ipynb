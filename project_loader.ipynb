{
 "cells": [
  {
   "cell_type": "markdown",
   "metadata": {},
   "source": [
    "# Project loader"
   ]
  },
  {
   "cell_type": "code",
   "execution_count": 1,
   "metadata": {},
   "outputs": [
    {
     "name": "stdout",
     "output_type": "stream",
     "text": [
      "Collecting psycopg2\n",
      "  Downloading psycopg2-2.9.9-cp310-cp310-win_amd64.whl.metadata (4.5 kB)\n",
      "Downloading psycopg2-2.9.9-cp310-cp310-win_amd64.whl (1.2 MB)\n",
      "   ---------------------------------------- 0.0/1.2 MB ? eta -:--:--\n",
      "   - -------------------------------------- 0.0/1.2 MB 1.4 MB/s eta 0:00:01\n",
      "   --- ------------------------------------ 0.1/1.2 MB 1.1 MB/s eta 0:00:02\n",
      "   ----- ---------------------------------- 0.2/1.2 MB 1.3 MB/s eta 0:00:01\n",
      "   -------- ------------------------------- 0.2/1.2 MB 1.4 MB/s eta 0:00:01\n",
      "   -------- ------------------------------- 0.3/1.2 MB 1.4 MB/s eta 0:00:01\n",
      "   -------- ------------------------------- 0.3/1.2 MB 1.4 MB/s eta 0:00:01\n",
      "   --------- ------------------------------ 0.3/1.2 MB 896.4 kB/s eta 0:00:01\n",
      "   ----------- ---------------------------- 0.3/1.2 MB 952.6 kB/s eta 0:00:01\n",
      "   -------------- ------------------------- 0.4/1.2 MB 1.0 MB/s eta 0:00:01\n",
      "   ---------------- ----------------------- 0.5/1.2 MB 1.1 MB/s eta 0:00:01\n",
      "   ------------------- -------------------- 0.6/1.2 MB 1.1 MB/s eta 0:00:01\n",
      "   -------------------- ------------------- 0.6/1.2 MB 1.1 MB/s eta 0:00:01\n",
      "   -------------------- ------------------- 0.6/1.2 MB 1.1 MB/s eta 0:00:01\n",
      "   ---------------------- ----------------- 0.7/1.2 MB 1.0 MB/s eta 0:00:01\n",
      "   ----------------------- ---------------- 0.7/1.2 MB 1.0 MB/s eta 0:00:01\n",
      "   ------------------------- -------------- 0.7/1.2 MB 1.0 MB/s eta 0:00:01\n",
      "   --------------------------- ------------ 0.8/1.2 MB 1.0 MB/s eta 0:00:01\n",
      "   ------------------------------ --------- 0.9/1.2 MB 1.1 MB/s eta 0:00:01\n",
      "   -------------------------------- ------- 0.9/1.2 MB 1.1 MB/s eta 0:00:01\n",
      "   ------------------------------------ --- 1.1/1.2 MB 1.2 MB/s eta 0:00:01\n",
      "   ---------------------------------------  1.1/1.2 MB 1.2 MB/s eta 0:00:01\n",
      "   ---------------------------------------- 1.2/1.2 MB 1.2 MB/s eta 0:00:00\n",
      "Installing collected packages: psycopg2\n",
      "Successfully installed psycopg2-2.9.9\n",
      "Note: you may need to restart the kernel to use updated packages.\n"
     ]
    }
   ],
   "source": [
    "%pip install psycopg2"
   ]
  },
  {
   "cell_type": "code",
   "execution_count": 1,
   "metadata": {},
   "outputs": [],
   "source": [
    "import os\n",
    "import psycopg2"
   ]
  },
  {
   "cell_type": "markdown",
   "metadata": {},
   "source": [
    "Define database connection."
   ]
  },
  {
   "cell_type": "code",
   "execution_count": 2,
   "metadata": {},
   "outputs": [],
   "source": [
    "conn = psycopg2.connect (\n",
    "    database=\"airbnb\", \n",
    "    user='postgres', password='root',  \n",
    "    host='127.0.0.1', port='5432'\n",
    ")"
   ]
  },
  {
   "cell_type": "markdown",
   "metadata": {},
   "source": [
    "Get the cursor."
   ]
  },
  {
   "cell_type": "code",
   "execution_count": 3,
   "metadata": {},
   "outputs": [],
   "source": [
    "conn.autocommit = True\n",
    "cursor = conn.cursor() "
   ]
  },
  {
   "cell_type": "markdown",
   "metadata": {},
   "source": [
    "Retrieve full path for every csv file under out folder."
   ]
  },
  {
   "cell_type": "code",
   "execution_count": 4,
   "metadata": {},
   "outputs": [],
   "source": [
    "OUT_FOLDER_PATH = 'ETL/out/'"
   ]
  },
  {
   "cell_type": "code",
   "execution_count": 11,
   "metadata": {},
   "outputs": [],
   "source": [
    "full_paths = [\n",
    "        os.path.abspath(os.path.join(OUT_FOLDER_PATH, file)) \n",
    "        for file in os.listdir(OUT_FOLDER_PATH)\n",
    "] "
   ]
  },
  {
   "cell_type": "code",
   "execution_count": 12,
   "metadata": {},
   "outputs": [
    {
     "data": {
      "text/plain": [
       "['c:\\\\Users\\\\giaco\\\\Desktop\\\\Progetti\\\\NYC_AirBnB_Data_Management\\\\ETL\\\\out\\\\listings.csv',\n",
       " 'c:\\\\Users\\\\giaco\\\\Desktop\\\\Progetti\\\\NYC_AirBnB_Data_Management\\\\ETL\\\\out\\\\nypdarrests.csv',\n",
       " 'c:\\\\Users\\\\giaco\\\\Desktop\\\\Progetti\\\\NYC_AirBnB_Data_Management\\\\ETL\\\\out\\\\rollingsales.csv',\n",
       " 'c:\\\\Users\\\\giaco\\\\Desktop\\\\Progetti\\\\NYC_AirBnB_Data_Management\\\\ETL\\\\out\\\\subway_stops.csv']"
      ]
     },
     "execution_count": 12,
     "metadata": {},
     "output_type": "execute_result"
    }
   ],
   "source": [
    "full_paths"
   ]
  },
  {
   "cell_type": "markdown",
   "metadata": {},
   "source": [
    "Define the query that runs the `COPY` command. It will be responsible for loading the csv into the specified tables."
   ]
  },
  {
   "cell_type": "code",
   "execution_count": 13,
   "metadata": {},
   "outputs": [],
   "source": [
    "table_names = [\n",
    "    'listings',\n",
    "    'nypd_Arrests',\n",
    "    'house_sales',\n",
    "    'subway_stops'\n",
    "]"
   ]
  },
  {
   "cell_type": "code",
   "execution_count": 15,
   "metadata": {},
   "outputs": [],
   "source": [
    "for i, table in enumerate(table_names):\n",
    "    with open(full_paths[i], 'r') as f:\n",
    "        cursor.copy_expert(f'COPY {table} FROM STDIN WITH HEADER CSV', f)"
   ]
  }
 ],
 "metadata": {
  "kernelspec": {
   "display_name": "fpds",
   "language": "python",
   "name": "python3"
  },
  "language_info": {
   "codemirror_mode": {
    "name": "ipython",
    "version": 3
   },
   "file_extension": ".py",
   "mimetype": "text/x-python",
   "name": "python",
   "nbconvert_exporter": "python",
   "pygments_lexer": "ipython3",
   "version": "3.10.0"
  }
 },
 "nbformat": 4,
 "nbformat_minor": 2
}
