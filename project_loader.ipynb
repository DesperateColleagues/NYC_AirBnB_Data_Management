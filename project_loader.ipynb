{
 "cells": [
  {
   "cell_type": "markdown",
   "metadata": {},
   "source": [
    "# Project loader"
   ]
  },
  {
   "cell_type": "code",
   "execution_count": 1,
   "metadata": {},
   "outputs": [
    {
     "name": "stdout",
     "output_type": "stream",
     "text": [
      "Requirement already satisfied: psycopg2 in c:\\users\\giaco\\miniconda3\\envs\\fpds\\lib\\site-packages (2.9.9)\n",
      "Note: you may need to restart the kernel to use updated packages.\n"
     ]
    }
   ],
   "source": [
    "%pip install psycopg2"
   ]
  },
  {
   "cell_type": "code",
   "execution_count": 2,
   "metadata": {},
   "outputs": [],
   "source": [
    "import os\n",
    "import psycopg2"
   ]
  },
  {
   "cell_type": "markdown",
   "metadata": {},
   "source": [
    "Define database connection."
   ]
  },
  {
   "cell_type": "code",
   "execution_count": 3,
   "metadata": {},
   "outputs": [],
   "source": [
    "conn = psycopg2.connect (\n",
    "    database=\"airbnb\", \n",
    "    user='postgres', password='root',  \n",
    "    host='127.0.0.1', port='5432'\n",
    ")"
   ]
  },
  {
   "cell_type": "markdown",
   "metadata": {},
   "source": [
    "Get the cursor."
   ]
  },
  {
   "cell_type": "code",
   "execution_count": 4,
   "metadata": {},
   "outputs": [],
   "source": [
    "conn.autocommit = True\n",
    "cursor = conn.cursor() "
   ]
  },
  {
   "cell_type": "markdown",
   "metadata": {},
   "source": [
    "Retrieve full path for every csv file under out folder."
   ]
  },
  {
   "cell_type": "code",
   "execution_count": 5,
   "metadata": {},
   "outputs": [],
   "source": [
    "OUT_FOLDER_PATH = 'ETL/out/'"
   ]
  },
  {
   "cell_type": "code",
   "execution_count": 6,
   "metadata": {},
   "outputs": [],
   "source": [
    "full_paths = [\n",
    "        os.path.abspath(os.path.join(OUT_FOLDER_PATH, file)) \n",
    "        for file in os.listdir(OUT_FOLDER_PATH)\n",
    "] "
   ]
  },
  {
   "cell_type": "code",
   "execution_count": 7,
   "metadata": {},
   "outputs": [
    {
     "data": {
      "text/plain": [
       "['c:\\\\Users\\\\giaco\\\\Desktop\\\\Progetti\\\\NYC_AirBnB_Data_Management\\\\ETL\\\\out\\\\bnb_house.csv',\n",
       " 'c:\\\\Users\\\\giaco\\\\Desktop\\\\Progetti\\\\NYC_AirBnB_Data_Management\\\\ETL\\\\out\\\\crimes.csv',\n",
       " 'c:\\\\Users\\\\giaco\\\\Desktop\\\\Progetti\\\\NYC_AirBnB_Data_Management\\\\ETL\\\\out\\\\crime_types.csv',\n",
       " 'c:\\\\Users\\\\giaco\\\\Desktop\\\\Progetti\\\\NYC_AirBnB_Data_Management\\\\ETL\\\\out\\\\host.csv',\n",
       " 'c:\\\\Users\\\\giaco\\\\Desktop\\\\Progetti\\\\NYC_AirBnB_Data_Management\\\\ETL\\\\out\\\\rent.csv',\n",
       " 'c:\\\\Users\\\\giaco\\\\Desktop\\\\Progetti\\\\NYC_AirBnB_Data_Management\\\\ETL\\\\out\\\\rent_fare.csv',\n",
       " 'c:\\\\Users\\\\giaco\\\\Desktop\\\\Progetti\\\\NYC_AirBnB_Data_Management\\\\ETL\\\\out\\\\rollingsales.csv',\n",
       " 'c:\\\\Users\\\\giaco\\\\Desktop\\\\Progetti\\\\NYC_AirBnB_Data_Management\\\\ETL\\\\out\\\\subway_stops.csv']"
      ]
     },
     "execution_count": 7,
     "metadata": {},
     "output_type": "execute_result"
    }
   ],
   "source": [
    "full_paths"
   ]
  },
  {
   "cell_type": "markdown",
   "metadata": {},
   "source": [
    "Define the query that runs the `COPY` command. It will be responsible for loading the csv into the specified tables."
   ]
  },
  {
   "cell_type": "code",
   "execution_count": 8,
   "metadata": {},
   "outputs": [],
   "source": [
    "table_names = [\n",
    "    'bnb_house',\n",
    "    'crimes',\n",
    "    'crime_types',\n",
    "    'hosts',\n",
    "    'rent',\n",
    "    'rent_fare',\n",
    "    'house_sales',\n",
    "    'subway_stops'\n",
    "]"
   ]
  },
  {
   "cell_type": "code",
   "execution_count": 14,
   "metadata": {},
   "outputs": [],
   "source": [
    "for i, table in enumerate(table_names):\n",
    "    with open(full_paths[i], 'r') as f:\n",
    "        cursor.copy_expert(f'COPY {table} FROM STDIN WITH HEADER CSV', f)"
   ]
  }
 ],
 "metadata": {
  "kernelspec": {
   "display_name": "fpds",
   "language": "python",
   "name": "python3"
  },
  "language_info": {
   "codemirror_mode": {
    "name": "ipython",
    "version": 3
   },
   "file_extension": ".py",
   "mimetype": "text/x-python",
   "name": "python",
   "nbconvert_exporter": "python",
   "pygments_lexer": "ipython3",
   "version": "3.10.0"
  }
 },
 "nbformat": 4,
 "nbformat_minor": 2
}
