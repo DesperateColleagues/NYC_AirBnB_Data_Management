{
 "cells": [
  {
   "cell_type": "markdown",
   "metadata": {},
   "source": [
    "# Rollingsales ETL"
   ]
  },
  {
   "cell_type": "code",
   "execution_count": null,
   "metadata": {},
   "outputs": [],
   "source": [
    "import pandas as pd\n",
    "import re\n",
    "\n",
    "from os import environ\n",
    "from geopy import GoogleV3"
   ]
  },
  {
   "cell_type": "markdown",
   "metadata": {},
   "source": [
    "Read the excel file with house sales data."
   ]
  },
  {
   "cell_type": "code",
   "execution_count": null,
   "metadata": {},
   "outputs": [],
   "source": [
    "df_bronx = pd.read_excel('../../datasets/csv_datasets/rollingsales_bronx.xlsx', skiprows=4)\n",
    "df_brooklyn = pd.read_excel('../../datasets/csv_datasets/rollingsales_brooklyn.xlsx', skiprows=4)\n",
    "df_manhattan = pd.read_excel('../../datasets/csv_datasets/rollingsales_manhattan.xlsx', skiprows=4)\n",
    "df_queens = pd.read_excel('../../datasets/csv_datasets/rollingsales_queens.xlsx', skiprows=4)\n",
    "df_statenisland = pd.read_excel('../../datasets/csv_datasets/rollingsales_statenisland.xlsx', skiprows=4)"
   ]
  },
  {
   "cell_type": "markdown",
   "metadata": {},
   "source": [
    "## Preparing to geocoding"
   ]
  },
  {
   "cell_type": "markdown",
   "metadata": {},
   "source": [
    "Concatenate the dataframes that represent single boroughs."
   ]
  },
  {
   "cell_type": "code",
   "execution_count": null,
   "metadata": {},
   "outputs": [],
   "source": [
    "df = pd.concat(objs=[df_bronx, df_brooklyn, df_manhattan, df_queens, df_statenisland], axis='index')"
   ]
  },
  {
   "cell_type": "markdown",
   "metadata": {},
   "source": [
    "Reset the index, providing a new auto increment one."
   ]
  },
  {
   "cell_type": "code",
   "execution_count": null,
   "metadata": {},
   "outputs": [],
   "source": [
    "df = df.reset_index(drop=True)"
   ]
  },
  {
   "cell_type": "markdown",
   "metadata": {},
   "source": [
    "Map the borough code, into its name."
   ]
  },
  {
   "cell_type": "code",
   "execution_count": null,
   "metadata": {},
   "outputs": [],
   "source": [
    "df['BOROUGH'] = df['BOROUGH'].map({\n",
    "    1: 'MANHATTAN', \n",
    "    2: 'BRONX',\n",
    "    3: 'BROOKLYN', \n",
    "    4: 'QUEENS', \n",
    "    5: 'STATEN ISLAND'\n",
    "})"
   ]
  },
  {
   "cell_type": "code",
   "execution_count": null,
   "metadata": {},
   "outputs": [],
   "source": [
    "df.head()"
   ]
  },
  {
   "cell_type": "code",
   "execution_count": null,
   "metadata": {},
   "outputs": [],
   "source": [
    "df.tail()"
   ]
  },
  {
   "cell_type": "markdown",
   "metadata": {},
   "source": [
    "Drop the rows where the number of the house is missing. It is possible to geocode these addresses."
   ]
  },
  {
   "cell_type": "code",
   "execution_count": null,
   "metadata": {},
   "outputs": [],
   "source": [
    "df = df.drop(\n",
    "    index=df[df['ADDRESS'].str.startswith('N/A')].index\n",
    ")"
   ]
  },
  {
   "cell_type": "markdown",
   "metadata": {},
   "source": [
    "Retrieve addresses where the street number is not specified correctly."
   ]
  },
  {
   "cell_type": "code",
   "execution_count": null,
   "metadata": {},
   "outputs": [],
   "source": [
    "# Wrong street format\n",
    "df_wsf_mask = df['ADDRESS'].str.match(r'\\d{1,4}\\-*\\d{0,4}\\s\\d*[A-Z\\s]*\\d{1,4}\\s(STREET|AVENUE)')\n",
    "df[df_wsf_mask]"
   ]
  },
  {
   "cell_type": "code",
   "execution_count": null,
   "metadata": {},
   "outputs": [],
   "source": [
    "def adjust_street_format(x: str):\n",
    "    fap = re.split(pattern=r'\\s(STREET|AVENUE)', string=x)[0] # first part of the address\n",
    "\n",
    "    suffix_dict = {'1': 'ST', '2': 'ND', '3': 'RD'}\n",
    "\n",
    "    street_number = re.split(pattern='\\s', string=fap)[-1]\n",
    "\n",
    "    # Obtains the correct suffix to concatenate\n",
    "    th_condition = (\n",
    "        # Conditions on last number of the street\n",
    "        int(street_number[-1]) >= 4 or \n",
    "        int(street_number[-1]) == 0 or\n",
    "        # Conditions if the number end with a number between 11 and 19\n",
    "        (len(street_number) >= 2 and street_number[-2] == '1')\n",
    "    )\n",
    "    \n",
    "    # Selects the suffix to apply\n",
    "    suffix = ('TH' if th_condition else suffix_dict[street_number[-1]])\n",
    "\n",
    "    fap += suffix    \n",
    "\n",
    "    return fap + (' STREET' if 'STREET' in x else ' AVENUE')"
   ]
  },
  {
   "cell_type": "markdown",
   "metadata": {},
   "source": [
    "Adjust the address format, using `map` with the previously defined function."
   ]
  },
  {
   "cell_type": "code",
   "execution_count": null,
   "metadata": {},
   "outputs": [],
   "source": [
    "df.loc[df_wsf_mask, 'ADDRESS'] = df.loc[df_wsf_mask, 'ADDRESS'].map(adjust_street_format)"
   ]
  },
  {
   "cell_type": "markdown",
   "metadata": {},
   "source": [
    "Remove the appartement's number since it's not useful when geocoding the address."
   ]
  },
  {
   "cell_type": "code",
   "execution_count": null,
   "metadata": {},
   "outputs": [],
   "source": [
    "# A mask used to retrieve the appartement whose address contains an appartement's number\n",
    "df_an_mask = df['ADDRESS'].str.contains(r',{1}')"
   ]
  },
  {
   "cell_type": "code",
   "execution_count": null,
   "metadata": {},
   "outputs": [],
   "source": [
    "# Remove the appartement's number from the address\n",
    "df.loc[df_an_mask, 'ADDRESS'] = df[df_an_mask].loc[:, 'ADDRESS'].str.split(',').str[0]"
   ]
  },
  {
   "cell_type": "markdown",
   "metadata": {},
   "source": [
    "In order to have a complete address, that can be geocoded, we need two information that will be joined for every feature value inside ADDRESS:\n",
    "\n",
    "- Borough name (found in the BOROUGH column)\n",
    "- City (which is New York City [NYC])"
   ]
  },
  {
   "cell_type": "code",
   "execution_count": null,
   "metadata": {},
   "outputs": [],
   "source": [
    "df['ADDRESS'] = df['ADDRESS'] + ', ' + 'NYC, ' + df['BOROUGH']"
   ]
  },
  {
   "cell_type": "code",
   "execution_count": null,
   "metadata": {},
   "outputs": [],
   "source": [
    "df.head()"
   ]
  },
  {
   "cell_type": "code",
   "execution_count": null,
   "metadata": {},
   "outputs": [],
   "source": [
    "df.tail()"
   ]
  },
  {
   "cell_type": "markdown",
   "metadata": {},
   "source": [
    "## Geocoding"
   ]
  },
  {
   "cell_type": "markdown",
   "metadata": {},
   "source": [
    "The address are now fixed. It is possible to geocode them and retrieve: latitude and longitude."
   ]
  },
  {
   "cell_type": "code",
   "execution_count": null,
   "metadata": {},
   "outputs": [],
   "source": [
    "geocoder = GoogleV3(api_key=environ['GEOCODING_API_KEY'])"
   ]
  },
  {
   "cell_type": "markdown",
   "metadata": {},
   "source": [
    "The following function will return a string where latitude and longitude of the input address are separated by a comma."
   ]
  },
  {
   "cell_type": "code",
   "execution_count": null,
   "metadata": {},
   "outputs": [],
   "source": [
    "i = 0"
   ]
  },
  {
   "cell_type": "code",
   "execution_count": null,
   "metadata": {},
   "outputs": [],
   "source": [
    "def geocode_address(address):\n",
    "    global i\n",
    "\n",
    "    location = geocoder.geocode(address)\n",
    "\n",
    "    if location is not None:\n",
    "        response = f'{location.latitude},{location.longitude}'\n",
    "    else:\n",
    "        response = None\n",
    "\n",
    "    print(f'{i}-{address}) {response}')\n",
    "    i += 1\n",
    "    \n",
    "    return response "
   ]
  },
  {
   "cell_type": "markdown",
   "metadata": {},
   "source": [
    "## Dividing the datasets again"
   ]
  },
  {
   "cell_type": "code",
   "execution_count": null,
   "metadata": {},
   "outputs": [],
   "source": [
    "df_bronx = df[df['BOROUGH'] == 'BRONX']\n",
    "df_brooklyn = df[df['BOROUGH'] == 'BROOKLYN']\n",
    "df_manhattan = df[df['BOROUGH'] == 'MANHATTAN']\n",
    "df_queens = df[df['BOROUGH'] == 'QUEENS']\n",
    "df_statenisland = df[df['BOROUGH'] == 'STATEN ISLAND']"
   ]
  },
  {
   "cell_type": "markdown",
   "metadata": {},
   "source": [
    "Since geocoding is a quiet long process, it's done separately for every borough and the result is stored in a separated (temporary) csv (one per borough), that will be merged into the final one. "
   ]
  },
  {
   "cell_type": "markdown",
   "metadata": {},
   "source": [
    "### Geocoding Bronx"
   ]
  },
  {
   "cell_type": "code",
   "execution_count": null,
   "metadata": {},
   "outputs": [],
   "source": [
    "df_bronx.loc[:, 'TEMP_CORD'] = df_bronx.loc[:, 'ADDRESS'].map(geocode_address)"
   ]
  },
  {
   "cell_type": "markdown",
   "metadata": {},
   "source": [
    "### Geocoding Staten Island"
   ]
  },
  {
   "cell_type": "code",
   "execution_count": null,
   "metadata": {},
   "outputs": [],
   "source": [
    "df_statenisland['TEMP_CORD'] = df_statenisland.loc[:, 'ADDRESS'].map(geocode_address)"
   ]
  },
  {
   "cell_type": "markdown",
   "metadata": {},
   "source": [
    "### Geocoding Manhattan"
   ]
  },
  {
   "cell_type": "code",
   "execution_count": null,
   "metadata": {},
   "outputs": [],
   "source": [
    "df_manhattan.loc[:, 'TEMP_CORD'] = df_manhattan.loc[:, 'ADDRESS'].map(geocode_address)"
   ]
  },
  {
   "cell_type": "markdown",
   "metadata": {},
   "source": [
    "### Geocoding Queens"
   ]
  },
  {
   "cell_type": "code",
   "execution_count": null,
   "metadata": {},
   "outputs": [],
   "source": [
    "df_queens.loc[:, 'TEMP_CORD'] = df_queens.loc[:, 'ADDRESS'].map(geocode_address)"
   ]
  },
  {
   "cell_type": "markdown",
   "metadata": {},
   "source": [
    "### Geocoding Brooklyn"
   ]
  },
  {
   "cell_type": "code",
   "execution_count": null,
   "metadata": {},
   "outputs": [],
   "source": [
    "df_brooklyn.loc[:, 'TEMP_CORD'] = df_brooklyn.loc[:, 'ADDRESS'].map(geocode_address)"
   ]
  },
  {
   "cell_type": "markdown",
   "metadata": {},
   "source": [
    "## Final cleaning"
   ]
  },
  {
   "cell_type": "code",
   "execution_count": null,
   "metadata": {},
   "outputs": [],
   "source": [
    "df = pd.concat(objs=[df_bronx, df_brooklyn, df_manhattan, df_queens, df_statenisland], axis='index').reset_index()"
   ]
  },
  {
   "cell_type": "markdown",
   "metadata": {},
   "source": [
    "Let's delete rows with a nan coordinate."
   ]
  },
  {
   "cell_type": "code",
   "execution_count": null,
   "metadata": {},
   "outputs": [],
   "source": [
    "na_coordinates = df[df['TEMP_CORD'].isna()]\n",
    "na_coordinates"
   ]
  },
  {
   "cell_type": "code",
   "execution_count": null,
   "metadata": {},
   "outputs": [],
   "source": [
    "df = df.drop(index=na_coordinates.index)"
   ]
  },
  {
   "cell_type": "code",
   "execution_count": null,
   "metadata": {},
   "outputs": [],
   "source": [
    "df.info()"
   ]
  },
  {
   "cell_type": "markdown",
   "metadata": {},
   "source": [
    "Extract latitude and longitude."
   ]
  },
  {
   "cell_type": "code",
   "execution_count": null,
   "metadata": {},
   "outputs": [],
   "source": [
    "df['LATITUDE'] = df['TEMP_CORD'].str.split(r',').str[0]\n",
    "df['LONGITUDE'] = df['TEMP_CORD'].str.split(r',').str[1]"
   ]
  },
  {
   "cell_type": "markdown",
   "metadata": {},
   "source": [
    "Takes only necessary features."
   ]
  },
  {
   "cell_type": "code",
   "execution_count": null,
   "metadata": {},
   "outputs": [],
   "source": [
    "df_out = df.loc[:, ['TAX CLASS AT PRESENT', 'NEIGHBORHOOD', \n",
    "                'LAND SQUARE FEET', 'SALE PRICE', 'YEAR BUILT', \n",
    "                'ADDRESS', 'LATITUDE', 'LONGITUDE']]"
   ]
  },
  {
   "cell_type": "code",
   "execution_count": null,
   "metadata": {},
   "outputs": [],
   "source": [
    "df_out = df_out.rename(columns={\n",
    "    'TAX CLASS AT PRESENT': 'tax_clas',\n",
    "    'NEIGHBORHOOD': 'neighborhood',\n",
    "    'LAND SQUARE FEET': 'sqft', \n",
    "    'SALE PRICE': 'price',\n",
    "    'YEAR BUILT': 'construction_year',\n",
    "    'ADDRESS': 'address',\n",
    "    'LATITUDE': 'latitude',\n",
    "    'LONGITUDE': 'longitude'\n",
    "})"
   ]
  },
  {
   "cell_type": "markdown",
   "metadata": {},
   "source": [
    "*Note* run this cell only if there is a column named index instead of id."
   ]
  },
  {
   "cell_type": "code",
   "execution_count": null,
   "metadata": {},
   "outputs": [],
   "source": [
    "df_out = df_out.rename(columns={'index': 'id'})"
   ]
  },
  {
   "cell_type": "code",
   "execution_count": 11,
   "metadata": {},
   "outputs": [],
   "source": [
    "df_out = df_out.reset_index()"
   ]
  },
  {
   "cell_type": "code",
   "execution_count": null,
   "metadata": {},
   "outputs": [],
   "source": [
    "df_out = df_out.drop(columns=['neighborhood'])"
   ]
  },
  {
   "cell_type": "code",
   "execution_count": null,
   "metadata": {},
   "outputs": [],
   "source": [
    "df_out.to_csv('../out/rollingsales.csv', index=False)"
   ]
  },
  {
   "cell_type": "markdown",
   "metadata": {},
   "source": [
    "## Additional cleaning"
   ]
  },
  {
   "cell_type": "code",
   "execution_count": 37,
   "metadata": {},
   "outputs": [],
   "source": [
    "df_out = pd.read_csv('../out/rollingsales.csv')"
   ]
  },
  {
   "cell_type": "code",
   "execution_count": 38,
   "metadata": {},
   "outputs": [],
   "source": [
    "df_out = df_out.rename(columns={'tax_clas': 'tax_class'})"
   ]
  },
  {
   "cell_type": "code",
   "execution_count": 39,
   "metadata": {},
   "outputs": [
    {
     "data": {
      "text/html": [
       "<div>\n",
       "<style scoped>\n",
       "    .dataframe tbody tr th:only-of-type {\n",
       "        vertical-align: middle;\n",
       "    }\n",
       "\n",
       "    .dataframe tbody tr th {\n",
       "        vertical-align: top;\n",
       "    }\n",
       "\n",
       "    .dataframe thead th {\n",
       "        text-align: right;\n",
       "    }\n",
       "</style>\n",
       "<table border=\"1\" class=\"dataframe\">\n",
       "  <thead>\n",
       "    <tr style=\"text-align: right;\">\n",
       "      <th></th>\n",
       "      <th>id</th>\n",
       "      <th>tax_class</th>\n",
       "      <th>sqft</th>\n",
       "      <th>price</th>\n",
       "      <th>construction_year</th>\n",
       "      <th>address</th>\n",
       "      <th>latitude</th>\n",
       "      <th>longitude</th>\n",
       "    </tr>\n",
       "  </thead>\n",
       "  <tbody>\n",
       "    <tr>\n",
       "      <th>0</th>\n",
       "      <td>0</td>\n",
       "      <td>1</td>\n",
       "      <td>1646.0</td>\n",
       "      <td>215000</td>\n",
       "      <td>1899.0</td>\n",
       "      <td>4453 PARK AVENUE, NYC, BRONX</td>\n",
       "      <td>40.853986</td>\n",
       "      <td>-73.896207</td>\n",
       "    </tr>\n",
       "    <tr>\n",
       "      <th>1</th>\n",
       "      <td>1</td>\n",
       "      <td>1</td>\n",
       "      <td>1646.0</td>\n",
       "      <td>570000</td>\n",
       "      <td>1899.0</td>\n",
       "      <td>4453 PARK AVENUE, NYC, BRONX</td>\n",
       "      <td>40.853986</td>\n",
       "      <td>-73.896207</td>\n",
       "    </tr>\n",
       "    <tr>\n",
       "      <th>2</th>\n",
       "      <td>2</td>\n",
       "      <td>1</td>\n",
       "      <td>1782.0</td>\n",
       "      <td>0</td>\n",
       "      <td>1899.0</td>\n",
       "      <td>461 EAST 178TH STREET, NYC, BRONX</td>\n",
       "      <td>40.848625</td>\n",
       "      <td>-73.897689</td>\n",
       "    </tr>\n",
       "    <tr>\n",
       "      <th>3</th>\n",
       "      <td>3</td>\n",
       "      <td>1</td>\n",
       "      <td>1911.0</td>\n",
       "      <td>0</td>\n",
       "      <td>1931.0</td>\n",
       "      <td>2364 WASHINGTON AVENUE, NYC, BRONX</td>\n",
       "      <td>40.856664</td>\n",
       "      <td>-73.891722</td>\n",
       "    </tr>\n",
       "    <tr>\n",
       "      <th>4</th>\n",
       "      <td>4</td>\n",
       "      <td>1</td>\n",
       "      <td>1658.0</td>\n",
       "      <td>350000</td>\n",
       "      <td>1901.0</td>\n",
       "      <td>454 EAST 172ND STREET, NYC, BRONX</td>\n",
       "      <td>40.840283</td>\n",
       "      <td>-73.902535</td>\n",
       "    </tr>\n",
       "    <tr>\n",
       "      <th>...</th>\n",
       "      <td>...</td>\n",
       "      <td>...</td>\n",
       "      <td>...</td>\n",
       "      <td>...</td>\n",
       "      <td>...</td>\n",
       "      <td>...</td>\n",
       "      <td>...</td>\n",
       "      <td>...</td>\n",
       "    </tr>\n",
       "    <tr>\n",
       "      <th>72526</th>\n",
       "      <td>72526</td>\n",
       "      <td>1</td>\n",
       "      <td>3728.0</td>\n",
       "      <td>790000</td>\n",
       "      <td>1999.0</td>\n",
       "      <td>377 ENGLEWOOD AVENUE, NYC, STATEN ISLAND</td>\n",
       "      <td>40.532316</td>\n",
       "      <td>-74.222781</td>\n",
       "    </tr>\n",
       "    <tr>\n",
       "      <th>72527</th>\n",
       "      <td>72527</td>\n",
       "      <td>1</td>\n",
       "      <td>4345.0</td>\n",
       "      <td>0</td>\n",
       "      <td>2001.0</td>\n",
       "      <td>104 GLADWIN STREET, NYC, STATEN ISLAND</td>\n",
       "      <td>40.531902</td>\n",
       "      <td>-74.222495</td>\n",
       "    </tr>\n",
       "    <tr>\n",
       "      <th>72528</th>\n",
       "      <td>72528</td>\n",
       "      <td>1</td>\n",
       "      <td>4372.0</td>\n",
       "      <td>990000</td>\n",
       "      <td>2001.0</td>\n",
       "      <td>110 GLADWIN STREET, NYC, STATEN ISLAND</td>\n",
       "      <td>40.531676</td>\n",
       "      <td>-74.222541</td>\n",
       "    </tr>\n",
       "    <tr>\n",
       "      <th>72529</th>\n",
       "      <td>72529</td>\n",
       "      <td>1B</td>\n",
       "      <td>2644.0</td>\n",
       "      <td>1116638</td>\n",
       "      <td>2023.0</td>\n",
       "      <td>96 LENEVAR AVENUE, NYC, STATEN ISLAND</td>\n",
       "      <td>40.538861</td>\n",
       "      <td>-74.209449</td>\n",
       "    </tr>\n",
       "    <tr>\n",
       "      <th>72530</th>\n",
       "      <td>72530</td>\n",
       "      <td>4</td>\n",
       "      <td>98116.0</td>\n",
       "      <td>5600000</td>\n",
       "      <td>1977.0</td>\n",
       "      <td>3120 ARTHUR KILL ROAD, NYC, STATEN ISLAND</td>\n",
       "      <td>40.543765</td>\n",
       "      <td>-74.233477</td>\n",
       "    </tr>\n",
       "  </tbody>\n",
       "</table>\n",
       "<p>72531 rows × 8 columns</p>\n",
       "</div>"
      ],
      "text/plain": [
       "          id tax_class     sqft    price  construction_year  \\\n",
       "0          0         1   1646.0   215000             1899.0   \n",
       "1          1         1   1646.0   570000             1899.0   \n",
       "2          2         1   1782.0        0             1899.0   \n",
       "3          3         1   1911.0        0             1931.0   \n",
       "4          4         1   1658.0   350000             1901.0   \n",
       "...      ...       ...      ...      ...                ...   \n",
       "72526  72526         1   3728.0   790000             1999.0   \n",
       "72527  72527         1   4345.0        0             2001.0   \n",
       "72528  72528         1   4372.0   990000             2001.0   \n",
       "72529  72529        1B   2644.0  1116638             2023.0   \n",
       "72530  72530         4  98116.0  5600000             1977.0   \n",
       "\n",
       "                                         address   latitude  longitude  \n",
       "0                   4453 PARK AVENUE, NYC, BRONX  40.853986 -73.896207  \n",
       "1                   4453 PARK AVENUE, NYC, BRONX  40.853986 -73.896207  \n",
       "2              461 EAST 178TH STREET, NYC, BRONX  40.848625 -73.897689  \n",
       "3             2364 WASHINGTON AVENUE, NYC, BRONX  40.856664 -73.891722  \n",
       "4              454 EAST 172ND STREET, NYC, BRONX  40.840283 -73.902535  \n",
       "...                                          ...        ...        ...  \n",
       "72526   377 ENGLEWOOD AVENUE, NYC, STATEN ISLAND  40.532316 -74.222781  \n",
       "72527     104 GLADWIN STREET, NYC, STATEN ISLAND  40.531902 -74.222495  \n",
       "72528     110 GLADWIN STREET, NYC, STATEN ISLAND  40.531676 -74.222541  \n",
       "72529      96 LENEVAR AVENUE, NYC, STATEN ISLAND  40.538861 -74.209449  \n",
       "72530  3120 ARTHUR KILL ROAD, NYC, STATEN ISLAND  40.543765 -74.233477  \n",
       "\n",
       "[72531 rows x 8 columns]"
      ]
     },
     "execution_count": 39,
     "metadata": {},
     "output_type": "execute_result"
    }
   ],
   "source": [
    "df_out"
   ]
  },
  {
   "cell_type": "markdown",
   "metadata": {},
   "source": [
    "Cast construction year to integer"
   ]
  },
  {
   "cell_type": "code",
   "execution_count": 40,
   "metadata": {},
   "outputs": [],
   "source": [
    "df_out['construction_year'] = df_out['construction_year'].astype(dtype='Int32')"
   ]
  },
  {
   "cell_type": "markdown",
   "metadata": {},
   "source": [
    "Drop rows where sqft is nan."
   ]
  },
  {
   "cell_type": "code",
   "execution_count": 41,
   "metadata": {},
   "outputs": [
    {
     "name": "stdout",
     "output_type": "stream",
     "text": [
      "<class 'pandas.core.frame.DataFrame'>\n",
      "RangeIndex: 72531 entries, 0 to 72530\n",
      "Data columns (total 8 columns):\n",
      " #   Column             Non-Null Count  Dtype  \n",
      "---  ------             --------------  -----  \n",
      " 0   id                 72531 non-null  int64  \n",
      " 1   tax_class          72466 non-null  object \n",
      " 2   sqft               39327 non-null  float64\n",
      " 3   price              72531 non-null  int64  \n",
      " 4   construction_year  68441 non-null  Int32  \n",
      " 5   address            72531 non-null  object \n",
      " 6   latitude           72531 non-null  float64\n",
      " 7   longitude          72531 non-null  float64\n",
      "dtypes: Int32(1), float64(3), int64(2), object(2)\n",
      "memory usage: 4.2+ MB\n"
     ]
    }
   ],
   "source": [
    "df_out.info()"
   ]
  },
  {
   "cell_type": "code",
   "execution_count": 42,
   "metadata": {},
   "outputs": [],
   "source": [
    "df_out = df_out.dropna(subset='sqft', axis='index')"
   ]
  },
  {
   "cell_type": "code",
   "execution_count": 43,
   "metadata": {},
   "outputs": [
    {
     "data": {
      "text/html": [
       "<div>\n",
       "<style scoped>\n",
       "    .dataframe tbody tr th:only-of-type {\n",
       "        vertical-align: middle;\n",
       "    }\n",
       "\n",
       "    .dataframe tbody tr th {\n",
       "        vertical-align: top;\n",
       "    }\n",
       "\n",
       "    .dataframe thead th {\n",
       "        text-align: right;\n",
       "    }\n",
       "</style>\n",
       "<table border=\"1\" class=\"dataframe\">\n",
       "  <thead>\n",
       "    <tr style=\"text-align: right;\">\n",
       "      <th></th>\n",
       "      <th>id</th>\n",
       "      <th>tax_class</th>\n",
       "      <th>sqft</th>\n",
       "      <th>price</th>\n",
       "      <th>construction_year</th>\n",
       "      <th>address</th>\n",
       "      <th>latitude</th>\n",
       "      <th>longitude</th>\n",
       "    </tr>\n",
       "  </thead>\n",
       "  <tbody>\n",
       "    <tr>\n",
       "      <th>0</th>\n",
       "      <td>0</td>\n",
       "      <td>1</td>\n",
       "      <td>1646.0</td>\n",
       "      <td>215000</td>\n",
       "      <td>1899</td>\n",
       "      <td>4453 PARK AVENUE, NYC, BRONX</td>\n",
       "      <td>40.853986</td>\n",
       "      <td>-73.896207</td>\n",
       "    </tr>\n",
       "    <tr>\n",
       "      <th>1</th>\n",
       "      <td>1</td>\n",
       "      <td>1</td>\n",
       "      <td>1646.0</td>\n",
       "      <td>570000</td>\n",
       "      <td>1899</td>\n",
       "      <td>4453 PARK AVENUE, NYC, BRONX</td>\n",
       "      <td>40.853986</td>\n",
       "      <td>-73.896207</td>\n",
       "    </tr>\n",
       "    <tr>\n",
       "      <th>2</th>\n",
       "      <td>2</td>\n",
       "      <td>1</td>\n",
       "      <td>1782.0</td>\n",
       "      <td>0</td>\n",
       "      <td>1899</td>\n",
       "      <td>461 EAST 178TH STREET, NYC, BRONX</td>\n",
       "      <td>40.848625</td>\n",
       "      <td>-73.897689</td>\n",
       "    </tr>\n",
       "    <tr>\n",
       "      <th>3</th>\n",
       "      <td>3</td>\n",
       "      <td>1</td>\n",
       "      <td>1911.0</td>\n",
       "      <td>0</td>\n",
       "      <td>1931</td>\n",
       "      <td>2364 WASHINGTON AVENUE, NYC, BRONX</td>\n",
       "      <td>40.856664</td>\n",
       "      <td>-73.891722</td>\n",
       "    </tr>\n",
       "    <tr>\n",
       "      <th>4</th>\n",
       "      <td>4</td>\n",
       "      <td>1</td>\n",
       "      <td>1658.0</td>\n",
       "      <td>350000</td>\n",
       "      <td>1901</td>\n",
       "      <td>454 EAST 172ND STREET, NYC, BRONX</td>\n",
       "      <td>40.840283</td>\n",
       "      <td>-73.902535</td>\n",
       "    </tr>\n",
       "    <tr>\n",
       "      <th>...</th>\n",
       "      <td>...</td>\n",
       "      <td>...</td>\n",
       "      <td>...</td>\n",
       "      <td>...</td>\n",
       "      <td>...</td>\n",
       "      <td>...</td>\n",
       "      <td>...</td>\n",
       "      <td>...</td>\n",
       "    </tr>\n",
       "    <tr>\n",
       "      <th>72526</th>\n",
       "      <td>72526</td>\n",
       "      <td>1</td>\n",
       "      <td>3728.0</td>\n",
       "      <td>790000</td>\n",
       "      <td>1999</td>\n",
       "      <td>377 ENGLEWOOD AVENUE, NYC, STATEN ISLAND</td>\n",
       "      <td>40.532316</td>\n",
       "      <td>-74.222781</td>\n",
       "    </tr>\n",
       "    <tr>\n",
       "      <th>72527</th>\n",
       "      <td>72527</td>\n",
       "      <td>1</td>\n",
       "      <td>4345.0</td>\n",
       "      <td>0</td>\n",
       "      <td>2001</td>\n",
       "      <td>104 GLADWIN STREET, NYC, STATEN ISLAND</td>\n",
       "      <td>40.531902</td>\n",
       "      <td>-74.222495</td>\n",
       "    </tr>\n",
       "    <tr>\n",
       "      <th>72528</th>\n",
       "      <td>72528</td>\n",
       "      <td>1</td>\n",
       "      <td>4372.0</td>\n",
       "      <td>990000</td>\n",
       "      <td>2001</td>\n",
       "      <td>110 GLADWIN STREET, NYC, STATEN ISLAND</td>\n",
       "      <td>40.531676</td>\n",
       "      <td>-74.222541</td>\n",
       "    </tr>\n",
       "    <tr>\n",
       "      <th>72529</th>\n",
       "      <td>72529</td>\n",
       "      <td>1B</td>\n",
       "      <td>2644.0</td>\n",
       "      <td>1116638</td>\n",
       "      <td>2023</td>\n",
       "      <td>96 LENEVAR AVENUE, NYC, STATEN ISLAND</td>\n",
       "      <td>40.538861</td>\n",
       "      <td>-74.209449</td>\n",
       "    </tr>\n",
       "    <tr>\n",
       "      <th>72530</th>\n",
       "      <td>72530</td>\n",
       "      <td>4</td>\n",
       "      <td>98116.0</td>\n",
       "      <td>5600000</td>\n",
       "      <td>1977</td>\n",
       "      <td>3120 ARTHUR KILL ROAD, NYC, STATEN ISLAND</td>\n",
       "      <td>40.543765</td>\n",
       "      <td>-74.233477</td>\n",
       "    </tr>\n",
       "  </tbody>\n",
       "</table>\n",
       "<p>39327 rows × 8 columns</p>\n",
       "</div>"
      ],
      "text/plain": [
       "          id tax_class     sqft    price  construction_year  \\\n",
       "0          0         1   1646.0   215000               1899   \n",
       "1          1         1   1646.0   570000               1899   \n",
       "2          2         1   1782.0        0               1899   \n",
       "3          3         1   1911.0        0               1931   \n",
       "4          4         1   1658.0   350000               1901   \n",
       "...      ...       ...      ...      ...                ...   \n",
       "72526  72526         1   3728.0   790000               1999   \n",
       "72527  72527         1   4345.0        0               2001   \n",
       "72528  72528         1   4372.0   990000               2001   \n",
       "72529  72529        1B   2644.0  1116638               2023   \n",
       "72530  72530         4  98116.0  5600000               1977   \n",
       "\n",
       "                                         address   latitude  longitude  \n",
       "0                   4453 PARK AVENUE, NYC, BRONX  40.853986 -73.896207  \n",
       "1                   4453 PARK AVENUE, NYC, BRONX  40.853986 -73.896207  \n",
       "2              461 EAST 178TH STREET, NYC, BRONX  40.848625 -73.897689  \n",
       "3             2364 WASHINGTON AVENUE, NYC, BRONX  40.856664 -73.891722  \n",
       "4              454 EAST 172ND STREET, NYC, BRONX  40.840283 -73.902535  \n",
       "...                                          ...        ...        ...  \n",
       "72526   377 ENGLEWOOD AVENUE, NYC, STATEN ISLAND  40.532316 -74.222781  \n",
       "72527     104 GLADWIN STREET, NYC, STATEN ISLAND  40.531902 -74.222495  \n",
       "72528     110 GLADWIN STREET, NYC, STATEN ISLAND  40.531676 -74.222541  \n",
       "72529      96 LENEVAR AVENUE, NYC, STATEN ISLAND  40.538861 -74.209449  \n",
       "72530  3120 ARTHUR KILL ROAD, NYC, STATEN ISLAND  40.543765 -74.233477  \n",
       "\n",
       "[39327 rows x 8 columns]"
      ]
     },
     "execution_count": 43,
     "metadata": {},
     "output_type": "execute_result"
    }
   ],
   "source": [
    "df_out"
   ]
  },
  {
   "cell_type": "code",
   "execution_count": 44,
   "metadata": {},
   "outputs": [
    {
     "data": {
      "text/plain": [
       "price\n",
       "0          16593\n",
       "10           714\n",
       "750000       266\n",
       "650000       247\n",
       "900000       245\n",
       "           ...  \n",
       "436642         1\n",
       "1274500        1\n",
       "1371000        1\n",
       "1864000        1\n",
       "1116638        1\n",
       "Name: count, Length: 3990, dtype: int64"
      ]
     },
     "execution_count": 44,
     "metadata": {},
     "output_type": "execute_result"
    }
   ],
   "source": [
    "df_out['price'].value_counts()"
   ]
  },
  {
   "cell_type": "code",
   "execution_count": 45,
   "metadata": {},
   "outputs": [],
   "source": [
    "df_out.loc[:, 'price'] = df_out.loc[:, 'price'].map(lambda x: 0 if x == 10 else x)"
   ]
  },
  {
   "cell_type": "code",
   "execution_count": 46,
   "metadata": {},
   "outputs": [
    {
     "data": {
      "text/plain": [
       "price\n",
       "0          17307\n",
       "750000       266\n",
       "650000       247\n",
       "900000       245\n",
       "800000       242\n",
       "           ...  \n",
       "436642         1\n",
       "1274500        1\n",
       "1371000        1\n",
       "1864000        1\n",
       "1116638        1\n",
       "Name: count, Length: 3989, dtype: int64"
      ]
     },
     "execution_count": 46,
     "metadata": {},
     "output_type": "execute_result"
    }
   ],
   "source": [
    "df_out['price'].value_counts()"
   ]
  },
  {
   "cell_type": "markdown",
   "metadata": {},
   "source": [
    "A price equals to zero indicates a property swap with no money in it."
   ]
  },
  {
   "cell_type": "code",
   "execution_count": 47,
   "metadata": {},
   "outputs": [
    {
     "data": {
      "text/html": [
       "<div>\n",
       "<style scoped>\n",
       "    .dataframe tbody tr th:only-of-type {\n",
       "        vertical-align: middle;\n",
       "    }\n",
       "\n",
       "    .dataframe tbody tr th {\n",
       "        vertical-align: top;\n",
       "    }\n",
       "\n",
       "    .dataframe thead th {\n",
       "        text-align: right;\n",
       "    }\n",
       "</style>\n",
       "<table border=\"1\" class=\"dataframe\">\n",
       "  <thead>\n",
       "    <tr style=\"text-align: right;\">\n",
       "      <th></th>\n",
       "      <th>id</th>\n",
       "      <th>tax_class</th>\n",
       "      <th>sqft</th>\n",
       "      <th>price</th>\n",
       "      <th>construction_year</th>\n",
       "      <th>address</th>\n",
       "      <th>latitude</th>\n",
       "      <th>longitude</th>\n",
       "    </tr>\n",
       "  </thead>\n",
       "  <tbody>\n",
       "    <tr>\n",
       "      <th>0</th>\n",
       "      <td>0</td>\n",
       "      <td>1</td>\n",
       "      <td>1646.0</td>\n",
       "      <td>215000</td>\n",
       "      <td>1899</td>\n",
       "      <td>4453 PARK AVENUE, NYC, BRONX</td>\n",
       "      <td>40.853986</td>\n",
       "      <td>-73.896207</td>\n",
       "    </tr>\n",
       "    <tr>\n",
       "      <th>1</th>\n",
       "      <td>1</td>\n",
       "      <td>1</td>\n",
       "      <td>1646.0</td>\n",
       "      <td>570000</td>\n",
       "      <td>1899</td>\n",
       "      <td>4453 PARK AVENUE, NYC, BRONX</td>\n",
       "      <td>40.853986</td>\n",
       "      <td>-73.896207</td>\n",
       "    </tr>\n",
       "    <tr>\n",
       "      <th>2</th>\n",
       "      <td>2</td>\n",
       "      <td>1</td>\n",
       "      <td>1782.0</td>\n",
       "      <td>0</td>\n",
       "      <td>1899</td>\n",
       "      <td>461 EAST 178TH STREET, NYC, BRONX</td>\n",
       "      <td>40.848625</td>\n",
       "      <td>-73.897689</td>\n",
       "    </tr>\n",
       "    <tr>\n",
       "      <th>3</th>\n",
       "      <td>3</td>\n",
       "      <td>1</td>\n",
       "      <td>1911.0</td>\n",
       "      <td>0</td>\n",
       "      <td>1931</td>\n",
       "      <td>2364 WASHINGTON AVENUE, NYC, BRONX</td>\n",
       "      <td>40.856664</td>\n",
       "      <td>-73.891722</td>\n",
       "    </tr>\n",
       "    <tr>\n",
       "      <th>4</th>\n",
       "      <td>4</td>\n",
       "      <td>1</td>\n",
       "      <td>1658.0</td>\n",
       "      <td>350000</td>\n",
       "      <td>1901</td>\n",
       "      <td>454 EAST 172ND STREET, NYC, BRONX</td>\n",
       "      <td>40.840283</td>\n",
       "      <td>-73.902535</td>\n",
       "    </tr>\n",
       "    <tr>\n",
       "      <th>...</th>\n",
       "      <td>...</td>\n",
       "      <td>...</td>\n",
       "      <td>...</td>\n",
       "      <td>...</td>\n",
       "      <td>...</td>\n",
       "      <td>...</td>\n",
       "      <td>...</td>\n",
       "      <td>...</td>\n",
       "    </tr>\n",
       "    <tr>\n",
       "      <th>72526</th>\n",
       "      <td>72526</td>\n",
       "      <td>1</td>\n",
       "      <td>3728.0</td>\n",
       "      <td>790000</td>\n",
       "      <td>1999</td>\n",
       "      <td>377 ENGLEWOOD AVENUE, NYC, STATEN ISLAND</td>\n",
       "      <td>40.532316</td>\n",
       "      <td>-74.222781</td>\n",
       "    </tr>\n",
       "    <tr>\n",
       "      <th>72527</th>\n",
       "      <td>72527</td>\n",
       "      <td>1</td>\n",
       "      <td>4345.0</td>\n",
       "      <td>0</td>\n",
       "      <td>2001</td>\n",
       "      <td>104 GLADWIN STREET, NYC, STATEN ISLAND</td>\n",
       "      <td>40.531902</td>\n",
       "      <td>-74.222495</td>\n",
       "    </tr>\n",
       "    <tr>\n",
       "      <th>72528</th>\n",
       "      <td>72528</td>\n",
       "      <td>1</td>\n",
       "      <td>4372.0</td>\n",
       "      <td>990000</td>\n",
       "      <td>2001</td>\n",
       "      <td>110 GLADWIN STREET, NYC, STATEN ISLAND</td>\n",
       "      <td>40.531676</td>\n",
       "      <td>-74.222541</td>\n",
       "    </tr>\n",
       "    <tr>\n",
       "      <th>72529</th>\n",
       "      <td>72529</td>\n",
       "      <td>1B</td>\n",
       "      <td>2644.0</td>\n",
       "      <td>1116638</td>\n",
       "      <td>2023</td>\n",
       "      <td>96 LENEVAR AVENUE, NYC, STATEN ISLAND</td>\n",
       "      <td>40.538861</td>\n",
       "      <td>-74.209449</td>\n",
       "    </tr>\n",
       "    <tr>\n",
       "      <th>72530</th>\n",
       "      <td>72530</td>\n",
       "      <td>4</td>\n",
       "      <td>98116.0</td>\n",
       "      <td>5600000</td>\n",
       "      <td>1977</td>\n",
       "      <td>3120 ARTHUR KILL ROAD, NYC, STATEN ISLAND</td>\n",
       "      <td>40.543765</td>\n",
       "      <td>-74.233477</td>\n",
       "    </tr>\n",
       "  </tbody>\n",
       "</table>\n",
       "<p>39327 rows × 8 columns</p>\n",
       "</div>"
      ],
      "text/plain": [
       "          id tax_class     sqft    price  construction_year  \\\n",
       "0          0         1   1646.0   215000               1899   \n",
       "1          1         1   1646.0   570000               1899   \n",
       "2          2         1   1782.0        0               1899   \n",
       "3          3         1   1911.0        0               1931   \n",
       "4          4         1   1658.0   350000               1901   \n",
       "...      ...       ...      ...      ...                ...   \n",
       "72526  72526         1   3728.0   790000               1999   \n",
       "72527  72527         1   4345.0        0               2001   \n",
       "72528  72528         1   4372.0   990000               2001   \n",
       "72529  72529        1B   2644.0  1116638               2023   \n",
       "72530  72530         4  98116.0  5600000               1977   \n",
       "\n",
       "                                         address   latitude  longitude  \n",
       "0                   4453 PARK AVENUE, NYC, BRONX  40.853986 -73.896207  \n",
       "1                   4453 PARK AVENUE, NYC, BRONX  40.853986 -73.896207  \n",
       "2              461 EAST 178TH STREET, NYC, BRONX  40.848625 -73.897689  \n",
       "3             2364 WASHINGTON AVENUE, NYC, BRONX  40.856664 -73.891722  \n",
       "4              454 EAST 172ND STREET, NYC, BRONX  40.840283 -73.902535  \n",
       "...                                          ...        ...        ...  \n",
       "72526   377 ENGLEWOOD AVENUE, NYC, STATEN ISLAND  40.532316 -74.222781  \n",
       "72527     104 GLADWIN STREET, NYC, STATEN ISLAND  40.531902 -74.222495  \n",
       "72528     110 GLADWIN STREET, NYC, STATEN ISLAND  40.531676 -74.222541  \n",
       "72529      96 LENEVAR AVENUE, NYC, STATEN ISLAND  40.538861 -74.209449  \n",
       "72530  3120 ARTHUR KILL ROAD, NYC, STATEN ISLAND  40.543765 -74.233477  \n",
       "\n",
       "[39327 rows x 8 columns]"
      ]
     },
     "execution_count": 47,
     "metadata": {},
     "output_type": "execute_result"
    }
   ],
   "source": [
    "df_out"
   ]
  },
  {
   "cell_type": "code",
   "execution_count": 49,
   "metadata": {},
   "outputs": [
    {
     "name": "stdout",
     "output_type": "stream",
     "text": [
      "<class 'pandas.core.frame.DataFrame'>\n",
      "Index: 39327 entries, 0 to 72530\n",
      "Data columns (total 8 columns):\n",
      " #   Column             Non-Null Count  Dtype  \n",
      "---  ------             --------------  -----  \n",
      " 0   id                 39327 non-null  int64  \n",
      " 1   tax_class          39327 non-null  object \n",
      " 2   sqft               39327 non-null  float64\n",
      " 3   price              39327 non-null  int64  \n",
      " 4   construction_year  38587 non-null  Int32  \n",
      " 5   address            39327 non-null  object \n",
      " 6   latitude           39327 non-null  float64\n",
      " 7   longitude          39327 non-null  float64\n",
      "dtypes: Int32(1), float64(3), int64(2), object(2)\n",
      "memory usage: 2.6+ MB\n"
     ]
    }
   ],
   "source": [
    "df_out.info()"
   ]
  },
  {
   "cell_type": "markdown",
   "metadata": {},
   "source": [
    "Writes final adjustements to csv."
   ]
  },
  {
   "cell_type": "code",
   "execution_count": 48,
   "metadata": {},
   "outputs": [],
   "source": [
    "df_out.to_csv('../out/rollingsales.csv', index=False)"
   ]
  }
 ],
 "metadata": {
  "kernelspec": {
   "display_name": "fpds",
   "language": "python",
   "name": "python3"
  },
  "language_info": {
   "codemirror_mode": {
    "name": "ipython",
    "version": 3
   },
   "file_extension": ".py",
   "mimetype": "text/x-python",
   "name": "python",
   "nbconvert_exporter": "python",
   "pygments_lexer": "ipython3",
   "version": "3.10.0"
  }
 },
 "nbformat": 4,
 "nbformat_minor": 2
}
