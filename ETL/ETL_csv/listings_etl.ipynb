{
 "cells": [
  {
   "cell_type": "code",
   "execution_count": 2,
   "metadata": {},
   "outputs": [],
   "source": [
    "import numpy as np\n",
    "import pandas as pd\n",
    "import matplotlib.pyplot as plt\n",
    "import re"
   ]
  },
  {
   "cell_type": "code",
   "execution_count": 3,
   "metadata": {},
   "outputs": [],
   "source": [
    "df = pd.read_csv('../../datasets/csv_datasets/listings.csv')"
   ]
  },
  {
   "cell_type": "code",
   "execution_count": 4,
   "metadata": {},
   "outputs": [
    {
     "name": "stdout",
     "output_type": "stream",
     "text": [
      "<class 'pandas.core.frame.DataFrame'>\n",
      "RangeIndex: 39160 entries, 0 to 39159\n",
      "Data columns (total 18 columns):\n",
      " #   Column                          Non-Null Count  Dtype  \n",
      "---  ------                          --------------  -----  \n",
      " 0   id                              39160 non-null  int64  \n",
      " 1   name                            39160 non-null  object \n",
      " 2   host_id                         39160 non-null  int64  \n",
      " 3   host_name                       39155 non-null  object \n",
      " 4   neighbourhood_group             39160 non-null  object \n",
      " 5   neighbourhood                   39160 non-null  object \n",
      " 6   latitude                        39160 non-null  float64\n",
      " 7   longitude                       39160 non-null  float64\n",
      " 8   room_type                       39160 non-null  object \n",
      " 9   price                           39160 non-null  int64  \n",
      " 10  minimum_nights                  39160 non-null  int64  \n",
      " 11  number_of_reviews               39160 non-null  int64  \n",
      " 12  last_review                     28211 non-null  object \n",
      " 13  reviews_per_month               28211 non-null  float64\n",
      " 14  calculated_host_listings_count  39160 non-null  int64  \n",
      " 15  availability_365                39160 non-null  int64  \n",
      " 16  number_of_reviews_ltm           39160 non-null  int64  \n",
      " 17  license                         3879 non-null   object \n",
      "dtypes: float64(3), int64(8), object(7)\n",
      "memory usage: 5.4+ MB\n"
     ]
    }
   ],
   "source": [
    "df.info()"
   ]
  },
  {
   "cell_type": "code",
   "execution_count": 5,
   "metadata": {},
   "outputs": [
    {
     "data": {
      "text/html": [
       "<div>\n",
       "<style scoped>\n",
       "    .dataframe tbody tr th:only-of-type {\n",
       "        vertical-align: middle;\n",
       "    }\n",
       "\n",
       "    .dataframe tbody tr th {\n",
       "        vertical-align: top;\n",
       "    }\n",
       "\n",
       "    .dataframe thead th {\n",
       "        text-align: right;\n",
       "    }\n",
       "</style>\n",
       "<table border=\"1\" class=\"dataframe\">\n",
       "  <thead>\n",
       "    <tr style=\"text-align: right;\">\n",
       "      <th></th>\n",
       "      <th>id</th>\n",
       "      <th>name</th>\n",
       "      <th>host_id</th>\n",
       "      <th>host_name</th>\n",
       "      <th>neighbourhood_group</th>\n",
       "      <th>neighbourhood</th>\n",
       "      <th>latitude</th>\n",
       "      <th>longitude</th>\n",
       "      <th>room_type</th>\n",
       "      <th>price</th>\n",
       "      <th>minimum_nights</th>\n",
       "      <th>number_of_reviews</th>\n",
       "      <th>last_review</th>\n",
       "      <th>reviews_per_month</th>\n",
       "      <th>calculated_host_listings_count</th>\n",
       "      <th>availability_365</th>\n",
       "      <th>number_of_reviews_ltm</th>\n",
       "      <th>license</th>\n",
       "    </tr>\n",
       "  </thead>\n",
       "  <tbody>\n",
       "    <tr>\n",
       "      <th>0</th>\n",
       "      <td>2595</td>\n",
       "      <td>Rental unit in New York · ★4.68 · Studio · 1 b...</td>\n",
       "      <td>2845</td>\n",
       "      <td>Jennifer</td>\n",
       "      <td>Manhattan</td>\n",
       "      <td>Midtown</td>\n",
       "      <td>40.75356</td>\n",
       "      <td>-73.98559</td>\n",
       "      <td>Entire home/apt</td>\n",
       "      <td>240</td>\n",
       "      <td>30</td>\n",
       "      <td>49</td>\n",
       "      <td>2022-06-21</td>\n",
       "      <td>0.29</td>\n",
       "      <td>3</td>\n",
       "      <td>365</td>\n",
       "      <td>0</td>\n",
       "      <td>NaN</td>\n",
       "    </tr>\n",
       "    <tr>\n",
       "      <th>1</th>\n",
       "      <td>5121</td>\n",
       "      <td>Rental unit in Brooklyn · ★4.52 · 1 bedroom · ...</td>\n",
       "      <td>7356</td>\n",
       "      <td>Garon</td>\n",
       "      <td>Brooklyn</td>\n",
       "      <td>Bedford-Stuyvesant</td>\n",
       "      <td>40.68535</td>\n",
       "      <td>-73.95512</td>\n",
       "      <td>Private room</td>\n",
       "      <td>66</td>\n",
       "      <td>30</td>\n",
       "      <td>50</td>\n",
       "      <td>2019-12-02</td>\n",
       "      <td>0.28</td>\n",
       "      <td>2</td>\n",
       "      <td>120</td>\n",
       "      <td>0</td>\n",
       "      <td>NaN</td>\n",
       "    </tr>\n",
       "    <tr>\n",
       "      <th>2</th>\n",
       "      <td>9357</td>\n",
       "      <td>Rental unit in New York · ★4.52 · Studio · 1 b...</td>\n",
       "      <td>30193</td>\n",
       "      <td>Tommi</td>\n",
       "      <td>Manhattan</td>\n",
       "      <td>Hell's Kitchen</td>\n",
       "      <td>40.76724</td>\n",
       "      <td>-73.98664</td>\n",
       "      <td>Entire home/apt</td>\n",
       "      <td>175</td>\n",
       "      <td>45</td>\n",
       "      <td>58</td>\n",
       "      <td>2017-08-13</td>\n",
       "      <td>0.34</td>\n",
       "      <td>1</td>\n",
       "      <td>340</td>\n",
       "      <td>0</td>\n",
       "      <td>NaN</td>\n",
       "    </tr>\n",
       "  </tbody>\n",
       "</table>\n",
       "</div>"
      ],
      "text/plain": [
       "     id                                               name  host_id host_name  \\\n",
       "0  2595  Rental unit in New York · ★4.68 · Studio · 1 b...     2845  Jennifer   \n",
       "1  5121  Rental unit in Brooklyn · ★4.52 · 1 bedroom · ...     7356     Garon   \n",
       "2  9357  Rental unit in New York · ★4.52 · Studio · 1 b...    30193     Tommi   \n",
       "\n",
       "  neighbourhood_group       neighbourhood  latitude  longitude  \\\n",
       "0           Manhattan             Midtown  40.75356  -73.98559   \n",
       "1            Brooklyn  Bedford-Stuyvesant  40.68535  -73.95512   \n",
       "2           Manhattan      Hell's Kitchen  40.76724  -73.98664   \n",
       "\n",
       "         room_type  price  minimum_nights  number_of_reviews last_review  \\\n",
       "0  Entire home/apt    240              30                 49  2022-06-21   \n",
       "1     Private room     66              30                 50  2019-12-02   \n",
       "2  Entire home/apt    175              45                 58  2017-08-13   \n",
       "\n",
       "   reviews_per_month  calculated_host_listings_count  availability_365  \\\n",
       "0               0.29                               3               365   \n",
       "1               0.28                               2               120   \n",
       "2               0.34                               1               340   \n",
       "\n",
       "   number_of_reviews_ltm license  \n",
       "0                      0     NaN  \n",
       "1                      0     NaN  \n",
       "2                      0     NaN  "
      ]
     },
     "execution_count": 5,
     "metadata": {},
     "output_type": "execute_result"
    }
   ],
   "source": [
    "df.head(3)"
   ]
  },
  {
   "cell_type": "markdown",
   "metadata": {},
   "source": [
    "### 1 Rename and modify:\n",
    "- 'room_type' column as 'bnb_type';\n",
    "- 'availability_365' column as 'availability_rate_365', calculate avoilability rate;"
   ]
  },
  {
   "cell_type": "code",
   "execution_count": 6,
   "metadata": {},
   "outputs": [],
   "source": [
    "df = df.rename({'room_type': 'bnb_type'}, axis=\"columns\")"
   ]
  },
  {
   "cell_type": "code",
   "execution_count": 8,
   "metadata": {},
   "outputs": [
    {
     "data": {
      "text/html": [
       "<div>\n",
       "<style scoped>\n",
       "    .dataframe tbody tr th:only-of-type {\n",
       "        vertical-align: middle;\n",
       "    }\n",
       "\n",
       "    .dataframe tbody tr th {\n",
       "        vertical-align: top;\n",
       "    }\n",
       "\n",
       "    .dataframe thead th {\n",
       "        text-align: right;\n",
       "    }\n",
       "</style>\n",
       "<table border=\"1\" class=\"dataframe\">\n",
       "  <thead>\n",
       "    <tr style=\"text-align: right;\">\n",
       "      <th></th>\n",
       "      <th>id</th>\n",
       "      <th>name</th>\n",
       "      <th>host_id</th>\n",
       "      <th>host_name</th>\n",
       "      <th>neighbourhood_group</th>\n",
       "      <th>neighbourhood</th>\n",
       "      <th>latitude</th>\n",
       "      <th>longitude</th>\n",
       "      <th>bnb_type</th>\n",
       "      <th>price</th>\n",
       "      <th>minimum_nights</th>\n",
       "      <th>number_of_reviews</th>\n",
       "      <th>last_review</th>\n",
       "      <th>reviews_per_month</th>\n",
       "      <th>calculated_host_listings_count</th>\n",
       "      <th>availability_365</th>\n",
       "      <th>number_of_reviews_ltm</th>\n",
       "      <th>license</th>\n",
       "    </tr>\n",
       "  </thead>\n",
       "  <tbody>\n",
       "    <tr>\n",
       "      <th>0</th>\n",
       "      <td>2595</td>\n",
       "      <td>Rental unit in New York · ★4.68 · Studio · 1 b...</td>\n",
       "      <td>2845</td>\n",
       "      <td>Jennifer</td>\n",
       "      <td>Manhattan</td>\n",
       "      <td>Midtown</td>\n",
       "      <td>40.75356</td>\n",
       "      <td>-73.98559</td>\n",
       "      <td>Entire home/apt</td>\n",
       "      <td>240</td>\n",
       "      <td>30</td>\n",
       "      <td>49</td>\n",
       "      <td>2022-06-21</td>\n",
       "      <td>0.29</td>\n",
       "      <td>3</td>\n",
       "      <td>365</td>\n",
       "      <td>0</td>\n",
       "      <td>NaN</td>\n",
       "    </tr>\n",
       "  </tbody>\n",
       "</table>\n",
       "</div>"
      ],
      "text/plain": [
       "     id                                               name  host_id host_name  \\\n",
       "0  2595  Rental unit in New York · ★4.68 · Studio · 1 b...     2845  Jennifer   \n",
       "\n",
       "  neighbourhood_group neighbourhood  latitude  longitude         bnb_type  \\\n",
       "0           Manhattan       Midtown  40.75356  -73.98559  Entire home/apt   \n",
       "\n",
       "   price  minimum_nights  number_of_reviews last_review  reviews_per_month  \\\n",
       "0    240              30                 49  2022-06-21               0.29   \n",
       "\n",
       "   calculated_host_listings_count  availability_365  number_of_reviews_ltm  \\\n",
       "0                               3               365                      0   \n",
       "\n",
       "  license  \n",
       "0     NaN  "
      ]
     },
     "execution_count": 8,
     "metadata": {},
     "output_type": "execute_result"
    }
   ],
   "source": [
    "df.head(1)"
   ]
  },
  {
   "cell_type": "markdown",
   "metadata": {},
   "source": [
    "## 3. Retrieve the columns:\n",
    "- 'name'\n",
    "- 'rate';\n",
    "- 'room_type'\n",
    "- 'n_beds'\n",
    "- 'n_baths'\n",
    "- 'is_shared_bath'"
   ]
  },
  {
   "cell_type": "code",
   "execution_count": 9,
   "metadata": {},
   "outputs": [
    {
     "data": {
      "text/html": [
       "<div>\n",
       "<style scoped>\n",
       "    .dataframe tbody tr th:only-of-type {\n",
       "        vertical-align: middle;\n",
       "    }\n",
       "\n",
       "    .dataframe tbody tr th {\n",
       "        vertical-align: top;\n",
       "    }\n",
       "\n",
       "    .dataframe thead th {\n",
       "        text-align: right;\n",
       "    }\n",
       "</style>\n",
       "<table border=\"1\" class=\"dataframe\">\n",
       "  <thead>\n",
       "    <tr style=\"text-align: right;\">\n",
       "      <th></th>\n",
       "      <th>0</th>\n",
       "    </tr>\n",
       "  </thead>\n",
       "  <tbody>\n",
       "    <tr>\n",
       "      <th>0</th>\n",
       "      <td>Rental unit in New York</td>\n",
       "    </tr>\n",
       "    <tr>\n",
       "      <th>1</th>\n",
       "      <td>Rental unit in Brooklyn</td>\n",
       "    </tr>\n",
       "    <tr>\n",
       "      <th>2</th>\n",
       "      <td>Rental unit in New York</td>\n",
       "    </tr>\n",
       "    <tr>\n",
       "      <th>3</th>\n",
       "      <td>Rental unit in Brooklyn</td>\n",
       "    </tr>\n",
       "    <tr>\n",
       "      <th>4</th>\n",
       "      <td>Rental unit in Brooklyn</td>\n",
       "    </tr>\n",
       "  </tbody>\n",
       "</table>\n",
       "</div>"
      ],
      "text/plain": [
       "                         0\n",
       "0  Rental unit in New York\n",
       "1  Rental unit in Brooklyn\n",
       "2  Rental unit in New York\n",
       "3  Rental unit in Brooklyn\n",
       "4  Rental unit in Brooklyn"
      ]
     },
     "execution_count": 9,
     "metadata": {},
     "output_type": "execute_result"
    }
   ],
   "source": [
    "name = df[\"name\"].str.extract(r'([\\w\\s]+) ·')\n",
    "name.head()"
   ]
  },
  {
   "cell_type": "code",
   "execution_count": 10,
   "metadata": {},
   "outputs": [
    {
     "data": {
      "text/html": [
       "<div>\n",
       "<style scoped>\n",
       "    .dataframe tbody tr th:only-of-type {\n",
       "        vertical-align: middle;\n",
       "    }\n",
       "\n",
       "    .dataframe tbody tr th {\n",
       "        vertical-align: top;\n",
       "    }\n",
       "\n",
       "    .dataframe thead th {\n",
       "        text-align: right;\n",
       "    }\n",
       "</style>\n",
       "<table border=\"1\" class=\"dataframe\">\n",
       "  <thead>\n",
       "    <tr style=\"text-align: right;\">\n",
       "      <th></th>\n",
       "      <th>0</th>\n",
       "    </tr>\n",
       "  </thead>\n",
       "  <tbody>\n",
       "    <tr>\n",
       "      <th>0</th>\n",
       "      <td>4.68</td>\n",
       "    </tr>\n",
       "    <tr>\n",
       "      <th>1</th>\n",
       "      <td>4.52</td>\n",
       "    </tr>\n",
       "    <tr>\n",
       "      <th>2</th>\n",
       "      <td>4.52</td>\n",
       "    </tr>\n",
       "    <tr>\n",
       "      <th>3</th>\n",
       "      <td>4.58</td>\n",
       "    </tr>\n",
       "    <tr>\n",
       "      <th>4</th>\n",
       "      <td>4.65</td>\n",
       "    </tr>\n",
       "  </tbody>\n",
       "</table>\n",
       "</div>"
      ],
      "text/plain": [
       "      0\n",
       "0  4.68\n",
       "1  4.52\n",
       "2  4.52\n",
       "3  4.58\n",
       "4  4.65"
      ]
     },
     "execution_count": 10,
     "metadata": {},
     "output_type": "execute_result"
    }
   ],
   "source": [
    "rate = df[\"name\"].str.extract(r'★([\\d\\w\\.]{0,4}) ·')\n",
    "rate.head()"
   ]
  },
  {
   "cell_type": "markdown",
   "metadata": {},
   "source": [
    "Some rows in 'name' column have a non-numeric rate or don't have a rate."
   ]
  },
  {
   "cell_type": "code",
   "execution_count": 11,
   "metadata": {},
   "outputs": [],
   "source": [
    "df.loc[rate[0] == \"New\",'name'] = df.loc[rate[0] == \"New\",'name'].str.replace('★[\\w]{0,4}', \"★0.00\", regex=True)"
   ]
  },
  {
   "cell_type": "code",
   "execution_count": 12,
   "metadata": {},
   "outputs": [
    {
     "data": {
      "text/plain": [
       "3316     Home in Queens · ★0.00 · 1 bedroom · 1 bed · 1...\n",
       "3412     Rental unit in New York · ★0.00 · 1 bedroom · ...\n",
       "3763     Home in Brooklyn · ★0.00 · 5 bedrooms · 1 bed ...\n",
       "8217     Rental unit in Queens · ★0.00 · 1 bedroom · 1 ...\n",
       "8906     Condo in New York · ★0.00 · 1 bedroom · 2 beds...\n",
       "11685    Rental unit in Brooklyn · ★0.00 · Studio · 1 b...\n",
       "11821    Rental unit in New York · ★0.00 · 1 bedroom · ...\n",
       "13294    Guesthouse in Brooklyn · ★0.00 · 1 bedroom · 2...\n",
       "14479    Rental unit in Brooklyn · ★0.00 · Studio · 1 bath\n",
       "14556    Rental unit in New York · ★0.00 · 2 bedrooms ·...\n",
       "Name: name, dtype: object"
      ]
     },
     "execution_count": 12,
     "metadata": {},
     "output_type": "execute_result"
    }
   ],
   "source": [
    "df.loc[rate[0] == \"New\", 'name'].head(10)"
   ]
  },
  {
   "cell_type": "markdown",
   "metadata": {},
   "source": [
    "Add '★0.00' in 'name' column of the dataframe where rate value is missing"
   ]
  },
  {
   "cell_type": "code",
   "execution_count": 13,
   "metadata": {},
   "outputs": [],
   "source": [
    "name_list = [s.split(\"·\", 2) for s in df['name']]\n",
    "temp_list = name_list.copy()\n",
    "\n",
    "for i,l in enumerate(name_list):\n",
    "    s = np.where(\"★\" in l[1], \"·\".join(l), \"·\".join( [l[0], \" ★0.00 \"] + l[1:] ) )\n",
    "    temp_list[i] = str(s)"
   ]
  },
  {
   "cell_type": "code",
   "execution_count": 14,
   "metadata": {},
   "outputs": [],
   "source": [
    "df['name'] = temp_list"
   ]
  },
  {
   "cell_type": "markdown",
   "metadata": {},
   "source": [
    "Rate recalculation from clean dataframe"
   ]
  },
  {
   "cell_type": "code",
   "execution_count": 15,
   "metadata": {},
   "outputs": [
    {
     "data": {
      "text/plain": [
       "0\n",
       "0.00    17232\n",
       "5.0      3971\n",
       "4.67      804\n",
       "4.75      681\n",
       "4.83      611\n",
       "        ...  \n",
       "3.77        1\n",
       "4.02        1\n",
       "3.30        1\n",
       "3.36        1\n",
       "3.70        1\n",
       "Name: count, Length: 163, dtype: int64"
      ]
     },
     "execution_count": 15,
     "metadata": {},
     "output_type": "execute_result"
    }
   ],
   "source": [
    "rate = df[\"name\"].str.extract(r'★([\\d\\w\\.]{0,4}) ·')\n",
    "rate[0].value_counts()"
   ]
  },
  {
   "cell_type": "code",
   "execution_count": 16,
   "metadata": {},
   "outputs": [
    {
     "data": {
      "text/html": [
       "<div>\n",
       "<style scoped>\n",
       "    .dataframe tbody tr th:only-of-type {\n",
       "        vertical-align: middle;\n",
       "    }\n",
       "\n",
       "    .dataframe tbody tr th {\n",
       "        vertical-align: top;\n",
       "    }\n",
       "\n",
       "    .dataframe thead th {\n",
       "        text-align: right;\n",
       "    }\n",
       "</style>\n",
       "<table border=\"1\" class=\"dataframe\">\n",
       "  <thead>\n",
       "    <tr style=\"text-align: right;\">\n",
       "      <th></th>\n",
       "      <th>0</th>\n",
       "    </tr>\n",
       "  </thead>\n",
       "  <tbody>\n",
       "    <tr>\n",
       "      <th>0</th>\n",
       "      <td>Studio</td>\n",
       "    </tr>\n",
       "    <tr>\n",
       "      <th>1</th>\n",
       "      <td>1 bedroom</td>\n",
       "    </tr>\n",
       "    <tr>\n",
       "      <th>2</th>\n",
       "      <td>Studio</td>\n",
       "    </tr>\n",
       "    <tr>\n",
       "      <th>3</th>\n",
       "      <td>2 bedrooms</td>\n",
       "    </tr>\n",
       "    <tr>\n",
       "      <th>4</th>\n",
       "      <td>1 bedroom</td>\n",
       "    </tr>\n",
       "  </tbody>\n",
       "</table>\n",
       "</div>"
      ],
      "text/plain": [
       "            0\n",
       "0      Studio\n",
       "1   1 bedroom\n",
       "2      Studio\n",
       "3  2 bedrooms\n",
       "4   1 bedroom"
      ]
     },
     "execution_count": 16,
     "metadata": {},
     "output_type": "execute_result"
    }
   ],
   "source": [
    "room_type = df[\"name\"].str.extract(r'★[\\d\\.]{1,4} · ([\\d\\s\\w]+)')\n",
    "room_type[0] = room_type[0].str.rstrip()\n",
    "room_type.head()"
   ]
  },
  {
   "cell_type": "code",
   "execution_count": 17,
   "metadata": {},
   "outputs": [
    {
     "data": {
      "text/plain": [
       "0\n",
       "1 bedroom      26013\n",
       "2 bedrooms      6300\n",
       "Studio          3281\n",
       "3 bedrooms      2365\n",
       "4 bedrooms       800\n",
       "5 bedrooms       247\n",
       "6 bedrooms        62\n",
       "1 bed             34\n",
       "7 bedrooms        19\n",
       "9 bedrooms        11\n",
       "2 beds            10\n",
       "8 bedrooms         6\n",
       "3 beds             3\n",
       "10 bedrooms        2\n",
       "11 bedrooms        2\n",
       "14 bedrooms        1\n",
       "21 bedrooms        1\n",
       "26 bedrooms        1\n",
       "2 baths            1\n",
       "15 bedrooms        1\n",
       "Name: count, dtype: int64"
      ]
     },
     "execution_count": 17,
     "metadata": {},
     "output_type": "execute_result"
    }
   ],
   "source": [
    "room_type[0].value_counts()"
   ]
  },
  {
   "cell_type": "markdown",
   "metadata": {},
   "source": [
    "For all the bnb without a room type replace the type with '1 bedroom'"
   ]
  },
  {
   "cell_type": "code",
   "execution_count": 18,
   "metadata": {},
   "outputs": [],
   "source": [
    "room_type[0] = room_type[0].replace({\"2 baths\": \"1 bedroom\", \"1 bed\":\"1 bedroom\", \"2 beds\":\"1 bedroom\", \"3 beds\":\"1 bedroom\"})"
   ]
  },
  {
   "cell_type": "code",
   "execution_count": 19,
   "metadata": {},
   "outputs": [
    {
     "data": {
      "text/plain": [
       "0\n",
       "1 bedroom      26061\n",
       "2 bedrooms      6300\n",
       "Studio          3281\n",
       "3 bedrooms      2365\n",
       "4 bedrooms       800\n",
       "5 bedrooms       247\n",
       "6 bedrooms        62\n",
       "7 bedrooms        19\n",
       "9 bedrooms        11\n",
       "8 bedrooms         6\n",
       "10 bedrooms        2\n",
       "11 bedrooms        2\n",
       "14 bedrooms        1\n",
       "21 bedrooms        1\n",
       "26 bedrooms        1\n",
       "15 bedrooms        1\n",
       "Name: count, dtype: int64"
      ]
     },
     "execution_count": 19,
     "metadata": {},
     "output_type": "execute_result"
    }
   ],
   "source": [
    "room_type[0].value_counts()"
   ]
  },
  {
   "cell_type": "code",
   "execution_count": 20,
   "metadata": {},
   "outputs": [],
   "source": [
    "n_beds = df['name'].str.extract(r'([\\d\\.]+) bed[s]?\\s*')"
   ]
  },
  {
   "cell_type": "markdown",
   "metadata": {},
   "source": [
    "For the rows without beds the default value is 0"
   ]
  },
  {
   "cell_type": "code",
   "execution_count": 21,
   "metadata": {},
   "outputs": [],
   "source": [
    "n_beds.loc[n_beds[0].isna(), 0] = n_beds.loc[n_beds[0].isna(), 0].replace({np.nan: 0})"
   ]
  },
  {
   "cell_type": "code",
   "execution_count": 22,
   "metadata": {},
   "outputs": [
    {
     "data": {
      "text/plain": [
       "0\n",
       "1     28491\n",
       "2      6908\n",
       "3      2485\n",
       "4       818\n",
       "5       249\n",
       "0       102\n",
       "6        63\n",
       "7        19\n",
       "9        11\n",
       "8         6\n",
       "10        2\n",
       "11        2\n",
       "14        1\n",
       "21        1\n",
       "26        1\n",
       "15        1\n",
       "Name: count, dtype: int64"
      ]
     },
     "execution_count": 22,
     "metadata": {},
     "output_type": "execute_result"
    }
   ],
   "source": [
    "n_beds[0].value_counts()"
   ]
  },
  {
   "cell_type": "code",
   "execution_count": 23,
   "metadata": {},
   "outputs": [],
   "source": [
    "n_baths = df['name'].str.extract(r'([\\d\\.]*)[ shared| private]? [Half-]?bath[s]?[\\s]*')"
   ]
  },
  {
   "cell_type": "code",
   "execution_count": 24,
   "metadata": {},
   "outputs": [
    {
     "data": {
      "text/plain": [
       "0\n",
       "1       20317\n",
       "        13631\n",
       "2        2907\n",
       "1.5      1104\n",
       "3         387\n",
       "2.5       361\n",
       "4         138\n",
       "3.5        78\n",
       "0          55\n",
       "4.5        37\n",
       "5          15\n",
       "6           6\n",
       "6.5         4\n",
       "5.5         4\n",
       "15.5        1\n",
       "7           1\n",
       "8.5         1\n",
       "7.5         1\n",
       "8           1\n",
       "Name: count, dtype: int64"
      ]
     },
     "execution_count": 24,
     "metadata": {},
     "output_type": "execute_result"
    }
   ],
   "source": [
    "# df.loc[n_baths[0].isna(), 'name']\n",
    "n_baths[0].value_counts()"
   ]
  },
  {
   "cell_type": "markdown",
   "metadata": {},
   "source": [
    "There are rows with only \"bath\", \"shared Half-bath\" or other stuff like this. In this case I consider 0.5 when there is \"Half|half\", 0 otherwise."
   ]
  },
  {
   "cell_type": "code",
   "execution_count": 25,
   "metadata": {},
   "outputs": [],
   "source": [
    "half_bath = df.loc[n_baths[0].isna(), 'name'].str.contains(r'[Shared |Private ]?[Half-|half-]?bath')\n",
    "n_baths.loc[n_baths[0].isna(), 0] = np.where(half_bath, '0.5', '0')"
   ]
  },
  {
   "cell_type": "code",
   "execution_count": 26,
   "metadata": {},
   "outputs": [
    {
     "data": {
      "text/plain": [
       "0\n",
       "1       20317\n",
       "        13631\n",
       "2        2907\n",
       "1.5      1104\n",
       "3         387\n",
       "2.5       361\n",
       "4         138\n",
       "0         100\n",
       "3.5        78\n",
       "0.5        66\n",
       "4.5        37\n",
       "5          15\n",
       "6           6\n",
       "6.5         4\n",
       "5.5         4\n",
       "15.5        1\n",
       "7           1\n",
       "8.5         1\n",
       "7.5         1\n",
       "8           1\n",
       "Name: count, dtype: int64"
      ]
     },
     "execution_count": 26,
     "metadata": {},
     "output_type": "execute_result"
    }
   ],
   "source": [
    "n_baths[0].value_counts()"
   ]
  },
  {
   "cell_type": "code",
   "execution_count": 27,
   "metadata": {},
   "outputs": [
    {
     "data": {
      "text/plain": [
       "10820"
      ]
     },
     "execution_count": 27,
     "metadata": {},
     "output_type": "execute_result"
    }
   ],
   "source": [
    "is_bath_shared = np.where( df['name'].str.contains('shared|Shared', regex=True), True , False)\n",
    "len(is_bath_shared[is_bath_shared == True])"
   ]
  },
  {
   "cell_type": "markdown",
   "metadata": {},
   "source": [
    "## 6. Update dataframe with new columns"
   ]
  },
  {
   "cell_type": "code",
   "execution_count": 28,
   "metadata": {},
   "outputs": [],
   "source": [
    "df['name'] = name"
   ]
  },
  {
   "cell_type": "code",
   "execution_count": 29,
   "metadata": {},
   "outputs": [],
   "source": [
    "df['rate'] = rate"
   ]
  },
  {
   "cell_type": "code",
   "execution_count": 30,
   "metadata": {},
   "outputs": [],
   "source": [
    "df['room_type'] = room_type"
   ]
  },
  {
   "cell_type": "code",
   "execution_count": 31,
   "metadata": {},
   "outputs": [],
   "source": [
    "df['n_beds'] = n_beds"
   ]
  },
  {
   "cell_type": "code",
   "execution_count": 32,
   "metadata": {},
   "outputs": [],
   "source": [
    "df['n_baths'] = n_baths"
   ]
  },
  {
   "cell_type": "code",
   "execution_count": 33,
   "metadata": {},
   "outputs": [],
   "source": [
    "df['is_bath_shared'] = is_bath_shared"
   ]
  },
  {
   "cell_type": "code",
   "execution_count": 34,
   "metadata": {},
   "outputs": [],
   "source": [
    "# df['license'] = np.where(df['license'].isna(), False, True)"
   ]
  },
  {
   "cell_type": "code",
   "execution_count": 35,
   "metadata": {},
   "outputs": [],
   "source": [
    "# plt.pie(df['license'].value_counts(),labels=['Unlicensed', 'Licensed']);"
   ]
  },
  {
   "cell_type": "code",
   "execution_count": 36,
   "metadata": {},
   "outputs": [
    {
     "data": {
      "text/html": [
       "<div>\n",
       "<style scoped>\n",
       "    .dataframe tbody tr th:only-of-type {\n",
       "        vertical-align: middle;\n",
       "    }\n",
       "\n",
       "    .dataframe tbody tr th {\n",
       "        vertical-align: top;\n",
       "    }\n",
       "\n",
       "    .dataframe thead th {\n",
       "        text-align: right;\n",
       "    }\n",
       "</style>\n",
       "<table border=\"1\" class=\"dataframe\">\n",
       "  <thead>\n",
       "    <tr style=\"text-align: right;\">\n",
       "      <th></th>\n",
       "      <th>id</th>\n",
       "      <th>name</th>\n",
       "      <th>host_id</th>\n",
       "      <th>host_name</th>\n",
       "      <th>neighbourhood_group</th>\n",
       "      <th>neighbourhood</th>\n",
       "      <th>latitude</th>\n",
       "      <th>longitude</th>\n",
       "      <th>bnb_type</th>\n",
       "      <th>price</th>\n",
       "      <th>...</th>\n",
       "      <th>reviews_per_month</th>\n",
       "      <th>calculated_host_listings_count</th>\n",
       "      <th>availability_365</th>\n",
       "      <th>number_of_reviews_ltm</th>\n",
       "      <th>license</th>\n",
       "      <th>rate</th>\n",
       "      <th>room_type</th>\n",
       "      <th>n_beds</th>\n",
       "      <th>n_baths</th>\n",
       "      <th>is_bath_shared</th>\n",
       "    </tr>\n",
       "  </thead>\n",
       "  <tbody>\n",
       "    <tr>\n",
       "      <th>0</th>\n",
       "      <td>2595</td>\n",
       "      <td>Rental unit in New York</td>\n",
       "      <td>2845</td>\n",
       "      <td>Jennifer</td>\n",
       "      <td>Manhattan</td>\n",
       "      <td>Midtown</td>\n",
       "      <td>40.75356</td>\n",
       "      <td>-73.98559</td>\n",
       "      <td>Entire home/apt</td>\n",
       "      <td>240</td>\n",
       "      <td>...</td>\n",
       "      <td>0.29</td>\n",
       "      <td>3</td>\n",
       "      <td>365</td>\n",
       "      <td>0</td>\n",
       "      <td>NaN</td>\n",
       "      <td>4.68</td>\n",
       "      <td>Studio</td>\n",
       "      <td>1</td>\n",
       "      <td>1</td>\n",
       "      <td>False</td>\n",
       "    </tr>\n",
       "    <tr>\n",
       "      <th>1</th>\n",
       "      <td>5121</td>\n",
       "      <td>Rental unit in Brooklyn</td>\n",
       "      <td>7356</td>\n",
       "      <td>Garon</td>\n",
       "      <td>Brooklyn</td>\n",
       "      <td>Bedford-Stuyvesant</td>\n",
       "      <td>40.68535</td>\n",
       "      <td>-73.95512</td>\n",
       "      <td>Private room</td>\n",
       "      <td>66</td>\n",
       "      <td>...</td>\n",
       "      <td>0.28</td>\n",
       "      <td>2</td>\n",
       "      <td>120</td>\n",
       "      <td>0</td>\n",
       "      <td>NaN</td>\n",
       "      <td>4.52</td>\n",
       "      <td>1 bedroom</td>\n",
       "      <td>1</td>\n",
       "      <td>0</td>\n",
       "      <td>False</td>\n",
       "    </tr>\n",
       "    <tr>\n",
       "      <th>2</th>\n",
       "      <td>9357</td>\n",
       "      <td>Rental unit in New York</td>\n",
       "      <td>30193</td>\n",
       "      <td>Tommi</td>\n",
       "      <td>Manhattan</td>\n",
       "      <td>Hell's Kitchen</td>\n",
       "      <td>40.76724</td>\n",
       "      <td>-73.98664</td>\n",
       "      <td>Entire home/apt</td>\n",
       "      <td>175</td>\n",
       "      <td>...</td>\n",
       "      <td>0.34</td>\n",
       "      <td>1</td>\n",
       "      <td>340</td>\n",
       "      <td>0</td>\n",
       "      <td>NaN</td>\n",
       "      <td>4.52</td>\n",
       "      <td>Studio</td>\n",
       "      <td>1</td>\n",
       "      <td>1</td>\n",
       "      <td>False</td>\n",
       "    </tr>\n",
       "    <tr>\n",
       "      <th>3</th>\n",
       "      <td>6848</td>\n",
       "      <td>Rental unit in Brooklyn</td>\n",
       "      <td>15991</td>\n",
       "      <td>Allen &amp; Irina</td>\n",
       "      <td>Brooklyn</td>\n",
       "      <td>Williamsburg</td>\n",
       "      <td>40.70935</td>\n",
       "      <td>-73.95342</td>\n",
       "      <td>Entire home/apt</td>\n",
       "      <td>81</td>\n",
       "      <td>...</td>\n",
       "      <td>1.09</td>\n",
       "      <td>1</td>\n",
       "      <td>110</td>\n",
       "      <td>5</td>\n",
       "      <td>NaN</td>\n",
       "      <td>4.58</td>\n",
       "      <td>2 bedrooms</td>\n",
       "      <td>2</td>\n",
       "      <td>1</td>\n",
       "      <td>False</td>\n",
       "    </tr>\n",
       "    <tr>\n",
       "      <th>4</th>\n",
       "      <td>10452</td>\n",
       "      <td>Rental unit in Brooklyn</td>\n",
       "      <td>35935</td>\n",
       "      <td>Angela</td>\n",
       "      <td>Brooklyn</td>\n",
       "      <td>Bedford-Stuyvesant</td>\n",
       "      <td>40.68294</td>\n",
       "      <td>-73.95682</td>\n",
       "      <td>Private room</td>\n",
       "      <td>90</td>\n",
       "      <td>...</td>\n",
       "      <td>0.49</td>\n",
       "      <td>4</td>\n",
       "      <td>290</td>\n",
       "      <td>2</td>\n",
       "      <td>NaN</td>\n",
       "      <td>4.65</td>\n",
       "      <td>1 bedroom</td>\n",
       "      <td>1</td>\n",
       "      <td></td>\n",
       "      <td>True</td>\n",
       "    </tr>\n",
       "  </tbody>\n",
       "</table>\n",
       "<p>5 rows × 23 columns</p>\n",
       "</div>"
      ],
      "text/plain": [
       "      id                     name  host_id      host_name neighbourhood_group  \\\n",
       "0   2595  Rental unit in New York     2845       Jennifer           Manhattan   \n",
       "1   5121  Rental unit in Brooklyn     7356          Garon            Brooklyn   \n",
       "2   9357  Rental unit in New York    30193          Tommi           Manhattan   \n",
       "3   6848  Rental unit in Brooklyn    15991  Allen & Irina            Brooklyn   \n",
       "4  10452  Rental unit in Brooklyn    35935         Angela            Brooklyn   \n",
       "\n",
       "        neighbourhood  latitude  longitude         bnb_type  price  ...  \\\n",
       "0             Midtown  40.75356  -73.98559  Entire home/apt    240  ...   \n",
       "1  Bedford-Stuyvesant  40.68535  -73.95512     Private room     66  ...   \n",
       "2      Hell's Kitchen  40.76724  -73.98664  Entire home/apt    175  ...   \n",
       "3        Williamsburg  40.70935  -73.95342  Entire home/apt     81  ...   \n",
       "4  Bedford-Stuyvesant  40.68294  -73.95682     Private room     90  ...   \n",
       "\n",
       "   reviews_per_month  calculated_host_listings_count availability_365  \\\n",
       "0               0.29                               3              365   \n",
       "1               0.28                               2              120   \n",
       "2               0.34                               1              340   \n",
       "3               1.09                               1              110   \n",
       "4               0.49                               4              290   \n",
       "\n",
       "   number_of_reviews_ltm  license  rate   room_type n_beds n_baths  \\\n",
       "0                      0      NaN  4.68      Studio      1       1   \n",
       "1                      0      NaN  4.52   1 bedroom      1       0   \n",
       "2                      0      NaN  4.52      Studio      1       1   \n",
       "3                      5      NaN  4.58  2 bedrooms      2       1   \n",
       "4                      2      NaN  4.65   1 bedroom      1           \n",
       "\n",
       "  is_bath_shared  \n",
       "0          False  \n",
       "1          False  \n",
       "2          False  \n",
       "3          False  \n",
       "4           True  \n",
       "\n",
       "[5 rows x 23 columns]"
      ]
     },
     "execution_count": 36,
     "metadata": {},
     "output_type": "execute_result"
    }
   ],
   "source": [
    "df.head()"
   ]
  },
  {
   "cell_type": "code",
   "execution_count": 37,
   "metadata": {},
   "outputs": [],
   "source": [
    "df.to_csv('../out/listings.csv', index=False)"
   ]
  }
 ],
 "metadata": {
  "kernelspec": {
   "display_name": "Python 3",
   "language": "python",
   "name": "python3"
  },
  "language_info": {
   "codemirror_mode": {
    "name": "ipython",
    "version": 3
   },
   "file_extension": ".py",
   "mimetype": "text/x-python",
   "name": "python",
   "nbconvert_exporter": "python",
   "pygments_lexer": "ipython3",
   "version": "3.10.0"
  }
 },
 "nbformat": 4,
 "nbformat_minor": 2
}
