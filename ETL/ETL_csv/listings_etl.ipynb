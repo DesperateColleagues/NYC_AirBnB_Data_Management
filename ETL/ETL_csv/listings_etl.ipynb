{
 "cells": [
  {
   "cell_type": "code",
   "execution_count": 591,
   "metadata": {},
   "outputs": [],
   "source": [
    "import numpy as np\n",
    "import pandas as pd\n",
    "import matplotlib.pyplot as plt\n",
    "import re"
   ]
  },
  {
   "cell_type": "code",
   "execution_count": 592,
   "metadata": {},
   "outputs": [],
   "source": [
    "df = pd.read_csv('../../datasets/csv_datasets/listings.csv')"
   ]
  },
  {
   "cell_type": "code",
   "execution_count": 593,
   "metadata": {},
   "outputs": [
    {
     "name": "stdout",
     "output_type": "stream",
     "text": [
      "<class 'pandas.core.frame.DataFrame'>\n",
      "RangeIndex: 39160 entries, 0 to 39159\n",
      "Data columns (total 18 columns):\n",
      " #   Column                          Non-Null Count  Dtype  \n",
      "---  ------                          --------------  -----  \n",
      " 0   id                              39160 non-null  int64  \n",
      " 1   name                            39160 non-null  object \n",
      " 2   host_id                         39160 non-null  int64  \n",
      " 3   host_name                       39155 non-null  object \n",
      " 4   neighbourhood_group             39160 non-null  object \n",
      " 5   neighbourhood                   39160 non-null  object \n",
      " 6   latitude                        39160 non-null  float64\n",
      " 7   longitude                       39160 non-null  float64\n",
      " 8   room_type                       39160 non-null  object \n",
      " 9   price                           39160 non-null  int64  \n",
      " 10  minimum_nights                  39160 non-null  int64  \n",
      " 11  number_of_reviews               39160 non-null  int64  \n",
      " 12  last_review                     28211 non-null  object \n",
      " 13  reviews_per_month               28211 non-null  float64\n",
      " 14  calculated_host_listings_count  39160 non-null  int64  \n",
      " 15  availability_365                39160 non-null  int64  \n",
      " 16  number_of_reviews_ltm           39160 non-null  int64  \n",
      " 17  license                         3879 non-null   object \n",
      "dtypes: float64(3), int64(8), object(7)\n",
      "memory usage: 5.4+ MB\n"
     ]
    }
   ],
   "source": [
    "df.info()"
   ]
  },
  {
   "cell_type": "code",
   "execution_count": 594,
   "metadata": {},
   "outputs": [
    {
     "data": {
      "text/html": [
       "<div>\n",
       "<style scoped>\n",
       "    .dataframe tbody tr th:only-of-type {\n",
       "        vertical-align: middle;\n",
       "    }\n",
       "\n",
       "    .dataframe tbody tr th {\n",
       "        vertical-align: top;\n",
       "    }\n",
       "\n",
       "    .dataframe thead th {\n",
       "        text-align: right;\n",
       "    }\n",
       "</style>\n",
       "<table border=\"1\" class=\"dataframe\">\n",
       "  <thead>\n",
       "    <tr style=\"text-align: right;\">\n",
       "      <th></th>\n",
       "      <th>id</th>\n",
       "      <th>name</th>\n",
       "      <th>host_id</th>\n",
       "      <th>host_name</th>\n",
       "      <th>neighbourhood_group</th>\n",
       "      <th>neighbourhood</th>\n",
       "      <th>latitude</th>\n",
       "      <th>longitude</th>\n",
       "      <th>room_type</th>\n",
       "      <th>price</th>\n",
       "      <th>minimum_nights</th>\n",
       "      <th>number_of_reviews</th>\n",
       "      <th>last_review</th>\n",
       "      <th>reviews_per_month</th>\n",
       "      <th>calculated_host_listings_count</th>\n",
       "      <th>availability_365</th>\n",
       "      <th>number_of_reviews_ltm</th>\n",
       "      <th>license</th>\n",
       "    </tr>\n",
       "  </thead>\n",
       "  <tbody>\n",
       "    <tr>\n",
       "      <th>0</th>\n",
       "      <td>2595</td>\n",
       "      <td>Rental unit in New York · ★4.68 · Studio · 1 b...</td>\n",
       "      <td>2845</td>\n",
       "      <td>Jennifer</td>\n",
       "      <td>Manhattan</td>\n",
       "      <td>Midtown</td>\n",
       "      <td>40.75356</td>\n",
       "      <td>-73.98559</td>\n",
       "      <td>Entire home/apt</td>\n",
       "      <td>240</td>\n",
       "      <td>30</td>\n",
       "      <td>49</td>\n",
       "      <td>2022-06-21</td>\n",
       "      <td>0.29</td>\n",
       "      <td>3</td>\n",
       "      <td>365</td>\n",
       "      <td>0</td>\n",
       "      <td>NaN</td>\n",
       "    </tr>\n",
       "    <tr>\n",
       "      <th>1</th>\n",
       "      <td>5121</td>\n",
       "      <td>Rental unit in Brooklyn · ★4.52 · 1 bedroom · ...</td>\n",
       "      <td>7356</td>\n",
       "      <td>Garon</td>\n",
       "      <td>Brooklyn</td>\n",
       "      <td>Bedford-Stuyvesant</td>\n",
       "      <td>40.68535</td>\n",
       "      <td>-73.95512</td>\n",
       "      <td>Private room</td>\n",
       "      <td>66</td>\n",
       "      <td>30</td>\n",
       "      <td>50</td>\n",
       "      <td>2019-12-02</td>\n",
       "      <td>0.28</td>\n",
       "      <td>2</td>\n",
       "      <td>120</td>\n",
       "      <td>0</td>\n",
       "      <td>NaN</td>\n",
       "    </tr>\n",
       "    <tr>\n",
       "      <th>2</th>\n",
       "      <td>9357</td>\n",
       "      <td>Rental unit in New York · ★4.52 · Studio · 1 b...</td>\n",
       "      <td>30193</td>\n",
       "      <td>Tommi</td>\n",
       "      <td>Manhattan</td>\n",
       "      <td>Hell's Kitchen</td>\n",
       "      <td>40.76724</td>\n",
       "      <td>-73.98664</td>\n",
       "      <td>Entire home/apt</td>\n",
       "      <td>175</td>\n",
       "      <td>45</td>\n",
       "      <td>58</td>\n",
       "      <td>2017-08-13</td>\n",
       "      <td>0.34</td>\n",
       "      <td>1</td>\n",
       "      <td>340</td>\n",
       "      <td>0</td>\n",
       "      <td>NaN</td>\n",
       "    </tr>\n",
       "  </tbody>\n",
       "</table>\n",
       "</div>"
      ],
      "text/plain": [
       "     id                                               name  host_id host_name  \\\n",
       "0  2595  Rental unit in New York · ★4.68 · Studio · 1 b...     2845  Jennifer   \n",
       "1  5121  Rental unit in Brooklyn · ★4.52 · 1 bedroom · ...     7356     Garon   \n",
       "2  9357  Rental unit in New York · ★4.52 · Studio · 1 b...    30193     Tommi   \n",
       "\n",
       "  neighbourhood_group       neighbourhood  latitude  longitude  \\\n",
       "0           Manhattan             Midtown  40.75356  -73.98559   \n",
       "1            Brooklyn  Bedford-Stuyvesant  40.68535  -73.95512   \n",
       "2           Manhattan      Hell's Kitchen  40.76724  -73.98664   \n",
       "\n",
       "         room_type  price  minimum_nights  number_of_reviews last_review  \\\n",
       "0  Entire home/apt    240              30                 49  2022-06-21   \n",
       "1     Private room     66              30                 50  2019-12-02   \n",
       "2  Entire home/apt    175              45                 58  2017-08-13   \n",
       "\n",
       "   reviews_per_month  calculated_host_listings_count  availability_365  \\\n",
       "0               0.29                               3               365   \n",
       "1               0.28                               2               120   \n",
       "2               0.34                               1               340   \n",
       "\n",
       "   number_of_reviews_ltm license  \n",
       "0                      0     NaN  \n",
       "1                      0     NaN  \n",
       "2                      0     NaN  "
      ]
     },
     "execution_count": 594,
     "metadata": {},
     "output_type": "execute_result"
    }
   ],
   "source": [
    "df.head(3)"
   ]
  },
  {
   "cell_type": "markdown",
   "metadata": {},
   "source": [
    "### 1 Rename and modify:\n",
    "- 'room_type' column as 'bnb_type';\n",
    "- 'availability_365' column as 'availability_rate_365', calculate avoilability rate;"
   ]
  },
  {
   "cell_type": "code",
   "execution_count": 595,
   "metadata": {},
   "outputs": [],
   "source": [
    "j = df"
   ]
  },
  {
   "cell_type": "code",
   "execution_count": 596,
   "metadata": {},
   "outputs": [],
   "source": [
    "df = df.rename({'room_type': 'bnb_type'}, axis=\"columns\")"
   ]
  },
  {
   "cell_type": "code",
   "execution_count": 597,
   "metadata": {},
   "outputs": [
    {
     "data": {
      "text/html": [
       "<div>\n",
       "<style scoped>\n",
       "    .dataframe tbody tr th:only-of-type {\n",
       "        vertical-align: middle;\n",
       "    }\n",
       "\n",
       "    .dataframe tbody tr th {\n",
       "        vertical-align: top;\n",
       "    }\n",
       "\n",
       "    .dataframe thead th {\n",
       "        text-align: right;\n",
       "    }\n",
       "</style>\n",
       "<table border=\"1\" class=\"dataframe\">\n",
       "  <thead>\n",
       "    <tr style=\"text-align: right;\">\n",
       "      <th></th>\n",
       "      <th>id</th>\n",
       "      <th>name</th>\n",
       "      <th>host_id</th>\n",
       "      <th>host_name</th>\n",
       "      <th>neighbourhood_group</th>\n",
       "      <th>neighbourhood</th>\n",
       "      <th>latitude</th>\n",
       "      <th>longitude</th>\n",
       "      <th>bnb_type</th>\n",
       "      <th>price</th>\n",
       "      <th>minimum_nights</th>\n",
       "      <th>number_of_reviews</th>\n",
       "      <th>last_review</th>\n",
       "      <th>reviews_per_month</th>\n",
       "      <th>calculated_host_listings_count</th>\n",
       "      <th>availability_365</th>\n",
       "      <th>number_of_reviews_ltm</th>\n",
       "      <th>license</th>\n",
       "    </tr>\n",
       "  </thead>\n",
       "  <tbody>\n",
       "    <tr>\n",
       "      <th>0</th>\n",
       "      <td>2595</td>\n",
       "      <td>Rental unit in New York · ★4.68 · Studio · 1 b...</td>\n",
       "      <td>2845</td>\n",
       "      <td>Jennifer</td>\n",
       "      <td>Manhattan</td>\n",
       "      <td>Midtown</td>\n",
       "      <td>40.75356</td>\n",
       "      <td>-73.98559</td>\n",
       "      <td>Entire home/apt</td>\n",
       "      <td>240</td>\n",
       "      <td>30</td>\n",
       "      <td>49</td>\n",
       "      <td>2022-06-21</td>\n",
       "      <td>0.29</td>\n",
       "      <td>3</td>\n",
       "      <td>365</td>\n",
       "      <td>0</td>\n",
       "      <td>NaN</td>\n",
       "    </tr>\n",
       "  </tbody>\n",
       "</table>\n",
       "</div>"
      ],
      "text/plain": [
       "     id                                               name  host_id host_name  \\\n",
       "0  2595  Rental unit in New York · ★4.68 · Studio · 1 b...     2845  Jennifer   \n",
       "\n",
       "  neighbourhood_group neighbourhood  latitude  longitude         bnb_type  \\\n",
       "0           Manhattan       Midtown  40.75356  -73.98559  Entire home/apt   \n",
       "\n",
       "   price  minimum_nights  number_of_reviews last_review  reviews_per_month  \\\n",
       "0    240              30                 49  2022-06-21               0.29   \n",
       "\n",
       "   calculated_host_listings_count  availability_365  number_of_reviews_ltm  \\\n",
       "0                               3               365                      0   \n",
       "\n",
       "  license  \n",
       "0     NaN  "
      ]
     },
     "execution_count": 597,
     "metadata": {},
     "output_type": "execute_result"
    }
   ],
   "source": [
    "df.head(1)"
   ]
  },
  {
   "cell_type": "code",
   "execution_count": 598,
   "metadata": {},
   "outputs": [
    {
     "data": {
      "text/html": [
       "<div>\n",
       "<style scoped>\n",
       "    .dataframe tbody tr th:only-of-type {\n",
       "        vertical-align: middle;\n",
       "    }\n",
       "\n",
       "    .dataframe tbody tr th {\n",
       "        vertical-align: top;\n",
       "    }\n",
       "\n",
       "    .dataframe thead th {\n",
       "        text-align: right;\n",
       "    }\n",
       "</style>\n",
       "<table border=\"1\" class=\"dataframe\">\n",
       "  <thead>\n",
       "    <tr style=\"text-align: right;\">\n",
       "      <th></th>\n",
       "      <th>id</th>\n",
       "      <th>name</th>\n",
       "      <th>host_id</th>\n",
       "      <th>host_name</th>\n",
       "      <th>neighbourhood_group</th>\n",
       "      <th>neighbourhood</th>\n",
       "      <th>latitude</th>\n",
       "      <th>longitude</th>\n",
       "      <th>bnb_type</th>\n",
       "      <th>price</th>\n",
       "      <th>minimum_nights</th>\n",
       "      <th>number_of_reviews</th>\n",
       "      <th>last_review</th>\n",
       "      <th>reviews_per_month</th>\n",
       "      <th>calculated_host_listings_count</th>\n",
       "      <th>availability_365</th>\n",
       "      <th>number_of_reviews_ltm</th>\n",
       "      <th>license</th>\n",
       "    </tr>\n",
       "  </thead>\n",
       "  <tbody>\n",
       "    <tr>\n",
       "      <th>0</th>\n",
       "      <td>2595</td>\n",
       "      <td>Rental unit in New York · ★4.68 · Studio · 1 b...</td>\n",
       "      <td>2845</td>\n",
       "      <td>Jennifer</td>\n",
       "      <td>Manhattan</td>\n",
       "      <td>Midtown</td>\n",
       "      <td>40.753560</td>\n",
       "      <td>-73.985590</td>\n",
       "      <td>Entire home/apt</td>\n",
       "      <td>240</td>\n",
       "      <td>30</td>\n",
       "      <td>49</td>\n",
       "      <td>2022-06-21</td>\n",
       "      <td>0.29</td>\n",
       "      <td>3</td>\n",
       "      <td>365</td>\n",
       "      <td>0</td>\n",
       "      <td>NaN</td>\n",
       "    </tr>\n",
       "    <tr>\n",
       "      <th>1</th>\n",
       "      <td>5121</td>\n",
       "      <td>Rental unit in Brooklyn · ★4.52 · 1 bedroom · ...</td>\n",
       "      <td>7356</td>\n",
       "      <td>Garon</td>\n",
       "      <td>Brooklyn</td>\n",
       "      <td>Bedford-Stuyvesant</td>\n",
       "      <td>40.685350</td>\n",
       "      <td>-73.955120</td>\n",
       "      <td>Private room</td>\n",
       "      <td>66</td>\n",
       "      <td>30</td>\n",
       "      <td>50</td>\n",
       "      <td>2019-12-02</td>\n",
       "      <td>0.28</td>\n",
       "      <td>2</td>\n",
       "      <td>120</td>\n",
       "      <td>0</td>\n",
       "      <td>NaN</td>\n",
       "    </tr>\n",
       "    <tr>\n",
       "      <th>2</th>\n",
       "      <td>9357</td>\n",
       "      <td>Rental unit in New York · ★4.52 · Studio · 1 b...</td>\n",
       "      <td>30193</td>\n",
       "      <td>Tommi</td>\n",
       "      <td>Manhattan</td>\n",
       "      <td>Hell's Kitchen</td>\n",
       "      <td>40.767240</td>\n",
       "      <td>-73.986640</td>\n",
       "      <td>Entire home/apt</td>\n",
       "      <td>175</td>\n",
       "      <td>45</td>\n",
       "      <td>58</td>\n",
       "      <td>2017-08-13</td>\n",
       "      <td>0.34</td>\n",
       "      <td>1</td>\n",
       "      <td>340</td>\n",
       "      <td>0</td>\n",
       "      <td>NaN</td>\n",
       "    </tr>\n",
       "    <tr>\n",
       "      <th>3</th>\n",
       "      <td>6848</td>\n",
       "      <td>Rental unit in Brooklyn · ★4.58 · 2 bedrooms ·...</td>\n",
       "      <td>15991</td>\n",
       "      <td>Allen &amp; Irina</td>\n",
       "      <td>Brooklyn</td>\n",
       "      <td>Williamsburg</td>\n",
       "      <td>40.709350</td>\n",
       "      <td>-73.953420</td>\n",
       "      <td>Entire home/apt</td>\n",
       "      <td>81</td>\n",
       "      <td>30</td>\n",
       "      <td>191</td>\n",
       "      <td>2023-08-14</td>\n",
       "      <td>1.09</td>\n",
       "      <td>1</td>\n",
       "      <td>110</td>\n",
       "      <td>5</td>\n",
       "      <td>NaN</td>\n",
       "    </tr>\n",
       "    <tr>\n",
       "      <th>4</th>\n",
       "      <td>10452</td>\n",
       "      <td>Rental unit in Brooklyn · ★4.65 · 1 bedroom · ...</td>\n",
       "      <td>35935</td>\n",
       "      <td>Angela</td>\n",
       "      <td>Brooklyn</td>\n",
       "      <td>Bedford-Stuyvesant</td>\n",
       "      <td>40.682940</td>\n",
       "      <td>-73.956820</td>\n",
       "      <td>Private room</td>\n",
       "      <td>90</td>\n",
       "      <td>30</td>\n",
       "      <td>80</td>\n",
       "      <td>2023-09-16</td>\n",
       "      <td>0.49</td>\n",
       "      <td>4</td>\n",
       "      <td>290</td>\n",
       "      <td>2</td>\n",
       "      <td>NaN</td>\n",
       "    </tr>\n",
       "    <tr>\n",
       "      <th>...</th>\n",
       "      <td>...</td>\n",
       "      <td>...</td>\n",
       "      <td>...</td>\n",
       "      <td>...</td>\n",
       "      <td>...</td>\n",
       "      <td>...</td>\n",
       "      <td>...</td>\n",
       "      <td>...</td>\n",
       "      <td>...</td>\n",
       "      <td>...</td>\n",
       "      <td>...</td>\n",
       "      <td>...</td>\n",
       "      <td>...</td>\n",
       "      <td>...</td>\n",
       "      <td>...</td>\n",
       "      <td>...</td>\n",
       "      <td>...</td>\n",
       "      <td>...</td>\n",
       "    </tr>\n",
       "    <tr>\n",
       "      <th>39155</th>\n",
       "      <td>1013632380355599044</td>\n",
       "      <td>Rental unit in New York · ★New · 1 bedroom · 1...</td>\n",
       "      <td>401202937</td>\n",
       "      <td>Eliza</td>\n",
       "      <td>Manhattan</td>\n",
       "      <td>Midtown</td>\n",
       "      <td>40.747829</td>\n",
       "      <td>-73.986907</td>\n",
       "      <td>Private room</td>\n",
       "      <td>64</td>\n",
       "      <td>1</td>\n",
       "      <td>0</td>\n",
       "      <td>NaN</td>\n",
       "      <td>NaN</td>\n",
       "      <td>56</td>\n",
       "      <td>62</td>\n",
       "      <td>0</td>\n",
       "      <td>Exempt</td>\n",
       "    </tr>\n",
       "    <tr>\n",
       "      <th>39156</th>\n",
       "      <td>1014579690057145481</td>\n",
       "      <td>Rental unit in Brooklyn · ★New · 1 bedroom · 3...</td>\n",
       "      <td>441448134</td>\n",
       "      <td>Bailey</td>\n",
       "      <td>Brooklyn</td>\n",
       "      <td>Bedford-Stuyvesant</td>\n",
       "      <td>40.689207</td>\n",
       "      <td>-73.936728</td>\n",
       "      <td>Entire home/apt</td>\n",
       "      <td>119</td>\n",
       "      <td>30</td>\n",
       "      <td>0</td>\n",
       "      <td>NaN</td>\n",
       "      <td>NaN</td>\n",
       "      <td>1</td>\n",
       "      <td>258</td>\n",
       "      <td>0</td>\n",
       "      <td>NaN</td>\n",
       "    </tr>\n",
       "    <tr>\n",
       "      <th>39157</th>\n",
       "      <td>1015027293549591335</td>\n",
       "      <td>Rental unit in New York · ★New · 1 bedroom · 1...</td>\n",
       "      <td>107434423</td>\n",
       "      <td>Blueground</td>\n",
       "      <td>Manhattan</td>\n",
       "      <td>Kips Bay</td>\n",
       "      <td>40.744972</td>\n",
       "      <td>-73.977042</td>\n",
       "      <td>Entire home/apt</td>\n",
       "      <td>266</td>\n",
       "      <td>31</td>\n",
       "      <td>0</td>\n",
       "      <td>NaN</td>\n",
       "      <td>NaN</td>\n",
       "      <td>647</td>\n",
       "      <td>333</td>\n",
       "      <td>0</td>\n",
       "      <td>NaN</td>\n",
       "    </tr>\n",
       "    <tr>\n",
       "      <th>39158</th>\n",
       "      <td>1015027813525407338</td>\n",
       "      <td>Rental unit in New York · ★New · 2 bedrooms · ...</td>\n",
       "      <td>107434423</td>\n",
       "      <td>Blueground</td>\n",
       "      <td>Manhattan</td>\n",
       "      <td>Kips Bay</td>\n",
       "      <td>40.740508</td>\n",
       "      <td>-73.978347</td>\n",
       "      <td>Entire home/apt</td>\n",
       "      <td>322</td>\n",
       "      <td>31</td>\n",
       "      <td>0</td>\n",
       "      <td>NaN</td>\n",
       "      <td>NaN</td>\n",
       "      <td>647</td>\n",
       "      <td>365</td>\n",
       "      <td>0</td>\n",
       "      <td>NaN</td>\n",
       "    </tr>\n",
       "    <tr>\n",
       "      <th>39159</th>\n",
       "      <td>1015028181966283124</td>\n",
       "      <td>Rental unit in New York · ★New · 1 bedroom · 1...</td>\n",
       "      <td>107434423</td>\n",
       "      <td>Blueground</td>\n",
       "      <td>Manhattan</td>\n",
       "      <td>Kips Bay</td>\n",
       "      <td>40.739918</td>\n",
       "      <td>-73.978986</td>\n",
       "      <td>Entire home/apt</td>\n",
       "      <td>233</td>\n",
       "      <td>31</td>\n",
       "      <td>0</td>\n",
       "      <td>NaN</td>\n",
       "      <td>NaN</td>\n",
       "      <td>647</td>\n",
       "      <td>365</td>\n",
       "      <td>0</td>\n",
       "      <td>NaN</td>\n",
       "    </tr>\n",
       "  </tbody>\n",
       "</table>\n",
       "<p>39160 rows × 18 columns</p>\n",
       "</div>"
      ],
      "text/plain": [
       "                        id                                               name  \\\n",
       "0                     2595  Rental unit in New York · ★4.68 · Studio · 1 b...   \n",
       "1                     5121  Rental unit in Brooklyn · ★4.52 · 1 bedroom · ...   \n",
       "2                     9357  Rental unit in New York · ★4.52 · Studio · 1 b...   \n",
       "3                     6848  Rental unit in Brooklyn · ★4.58 · 2 bedrooms ·...   \n",
       "4                    10452  Rental unit in Brooklyn · ★4.65 · 1 bedroom · ...   \n",
       "...                    ...                                                ...   \n",
       "39155  1013632380355599044  Rental unit in New York · ★New · 1 bedroom · 1...   \n",
       "39156  1014579690057145481  Rental unit in Brooklyn · ★New · 1 bedroom · 3...   \n",
       "39157  1015027293549591335  Rental unit in New York · ★New · 1 bedroom · 1...   \n",
       "39158  1015027813525407338  Rental unit in New York · ★New · 2 bedrooms · ...   \n",
       "39159  1015028181966283124  Rental unit in New York · ★New · 1 bedroom · 1...   \n",
       "\n",
       "         host_id      host_name neighbourhood_group       neighbourhood  \\\n",
       "0           2845       Jennifer           Manhattan             Midtown   \n",
       "1           7356          Garon            Brooklyn  Bedford-Stuyvesant   \n",
       "2          30193          Tommi           Manhattan      Hell's Kitchen   \n",
       "3          15991  Allen & Irina            Brooklyn        Williamsburg   \n",
       "4          35935         Angela            Brooklyn  Bedford-Stuyvesant   \n",
       "...          ...            ...                 ...                 ...   \n",
       "39155  401202937          Eliza           Manhattan             Midtown   \n",
       "39156  441448134         Bailey            Brooklyn  Bedford-Stuyvesant   \n",
       "39157  107434423     Blueground           Manhattan            Kips Bay   \n",
       "39158  107434423     Blueground           Manhattan            Kips Bay   \n",
       "39159  107434423     Blueground           Manhattan            Kips Bay   \n",
       "\n",
       "        latitude  longitude         bnb_type  price  minimum_nights  \\\n",
       "0      40.753560 -73.985590  Entire home/apt    240              30   \n",
       "1      40.685350 -73.955120     Private room     66              30   \n",
       "2      40.767240 -73.986640  Entire home/apt    175              45   \n",
       "3      40.709350 -73.953420  Entire home/apt     81              30   \n",
       "4      40.682940 -73.956820     Private room     90              30   \n",
       "...          ...        ...              ...    ...             ...   \n",
       "39155  40.747829 -73.986907     Private room     64               1   \n",
       "39156  40.689207 -73.936728  Entire home/apt    119              30   \n",
       "39157  40.744972 -73.977042  Entire home/apt    266              31   \n",
       "39158  40.740508 -73.978347  Entire home/apt    322              31   \n",
       "39159  40.739918 -73.978986  Entire home/apt    233              31   \n",
       "\n",
       "       number_of_reviews last_review  reviews_per_month  \\\n",
       "0                     49  2022-06-21               0.29   \n",
       "1                     50  2019-12-02               0.28   \n",
       "2                     58  2017-08-13               0.34   \n",
       "3                    191  2023-08-14               1.09   \n",
       "4                     80  2023-09-16               0.49   \n",
       "...                  ...         ...                ...   \n",
       "39155                  0         NaN                NaN   \n",
       "39156                  0         NaN                NaN   \n",
       "39157                  0         NaN                NaN   \n",
       "39158                  0         NaN                NaN   \n",
       "39159                  0         NaN                NaN   \n",
       "\n",
       "       calculated_host_listings_count  availability_365  \\\n",
       "0                                   3               365   \n",
       "1                                   2               120   \n",
       "2                                   1               340   \n",
       "3                                   1               110   \n",
       "4                                   4               290   \n",
       "...                               ...               ...   \n",
       "39155                              56                62   \n",
       "39156                               1               258   \n",
       "39157                             647               333   \n",
       "39158                             647               365   \n",
       "39159                             647               365   \n",
       "\n",
       "       number_of_reviews_ltm license  \n",
       "0                          0     NaN  \n",
       "1                          0     NaN  \n",
       "2                          0     NaN  \n",
       "3                          5     NaN  \n",
       "4                          2     NaN  \n",
       "...                      ...     ...  \n",
       "39155                      0  Exempt  \n",
       "39156                      0     NaN  \n",
       "39157                      0     NaN  \n",
       "39158                      0     NaN  \n",
       "39159                      0     NaN  \n",
       "\n",
       "[39160 rows x 18 columns]"
      ]
     },
     "execution_count": 598,
     "metadata": {},
     "output_type": "execute_result"
    }
   ],
   "source": [
    "df"
   ]
  },
  {
   "cell_type": "markdown",
   "metadata": {},
   "source": [
    "## 3. Retrieve the columns:\n",
    "- 'name'\n",
    "- 'rate';\n",
    "- 'room_type'\n",
    "- 'n_beds'\n",
    "- 'n_baths'\n",
    "- 'is_shared_bath'"
   ]
  },
  {
   "cell_type": "code",
   "execution_count": 599,
   "metadata": {},
   "outputs": [
    {
     "data": {
      "text/html": [
       "<div>\n",
       "<style scoped>\n",
       "    .dataframe tbody tr th:only-of-type {\n",
       "        vertical-align: middle;\n",
       "    }\n",
       "\n",
       "    .dataframe tbody tr th {\n",
       "        vertical-align: top;\n",
       "    }\n",
       "\n",
       "    .dataframe thead th {\n",
       "        text-align: right;\n",
       "    }\n",
       "</style>\n",
       "<table border=\"1\" class=\"dataframe\">\n",
       "  <thead>\n",
       "    <tr style=\"text-align: right;\">\n",
       "      <th></th>\n",
       "      <th>0</th>\n",
       "    </tr>\n",
       "  </thead>\n",
       "  <tbody>\n",
       "    <tr>\n",
       "      <th>0</th>\n",
       "      <td>Rental unit in New York</td>\n",
       "    </tr>\n",
       "    <tr>\n",
       "      <th>1</th>\n",
       "      <td>Rental unit in Brooklyn</td>\n",
       "    </tr>\n",
       "    <tr>\n",
       "      <th>2</th>\n",
       "      <td>Rental unit in New York</td>\n",
       "    </tr>\n",
       "    <tr>\n",
       "      <th>3</th>\n",
       "      <td>Rental unit in Brooklyn</td>\n",
       "    </tr>\n",
       "    <tr>\n",
       "      <th>4</th>\n",
       "      <td>Rental unit in Brooklyn</td>\n",
       "    </tr>\n",
       "  </tbody>\n",
       "</table>\n",
       "</div>"
      ],
      "text/plain": [
       "                         0\n",
       "0  Rental unit in New York\n",
       "1  Rental unit in Brooklyn\n",
       "2  Rental unit in New York\n",
       "3  Rental unit in Brooklyn\n",
       "4  Rental unit in Brooklyn"
      ]
     },
     "execution_count": 599,
     "metadata": {},
     "output_type": "execute_result"
    }
   ],
   "source": [
    "name = df[\"name\"].str.extract(r'([\\w\\s]+) ·')\n",
    "name.head()"
   ]
  },
  {
   "cell_type": "code",
   "execution_count": 600,
   "metadata": {},
   "outputs": [
    {
     "data": {
      "text/html": [
       "<div>\n",
       "<style scoped>\n",
       "    .dataframe tbody tr th:only-of-type {\n",
       "        vertical-align: middle;\n",
       "    }\n",
       "\n",
       "    .dataframe tbody tr th {\n",
       "        vertical-align: top;\n",
       "    }\n",
       "\n",
       "    .dataframe thead th {\n",
       "        text-align: right;\n",
       "    }\n",
       "</style>\n",
       "<table border=\"1\" class=\"dataframe\">\n",
       "  <thead>\n",
       "    <tr style=\"text-align: right;\">\n",
       "      <th></th>\n",
       "      <th>0</th>\n",
       "    </tr>\n",
       "  </thead>\n",
       "  <tbody>\n",
       "    <tr>\n",
       "      <th>0</th>\n",
       "      <td>4.68</td>\n",
       "    </tr>\n",
       "    <tr>\n",
       "      <th>1</th>\n",
       "      <td>4.52</td>\n",
       "    </tr>\n",
       "    <tr>\n",
       "      <th>2</th>\n",
       "      <td>4.52</td>\n",
       "    </tr>\n",
       "    <tr>\n",
       "      <th>3</th>\n",
       "      <td>4.58</td>\n",
       "    </tr>\n",
       "    <tr>\n",
       "      <th>4</th>\n",
       "      <td>4.65</td>\n",
       "    </tr>\n",
       "  </tbody>\n",
       "</table>\n",
       "</div>"
      ],
      "text/plain": [
       "      0\n",
       "0  4.68\n",
       "1  4.52\n",
       "2  4.52\n",
       "3  4.58\n",
       "4  4.65"
      ]
     },
     "execution_count": 600,
     "metadata": {},
     "output_type": "execute_result"
    }
   ],
   "source": [
    "rate = df[\"name\"].str.extract(r'★([\\d\\w\\.]{0,4}) ·')\n",
    "rate.head()"
   ]
  },
  {
   "cell_type": "markdown",
   "metadata": {},
   "source": [
    "Some rows in 'name' column have a non-numeric rate or don't have a rate."
   ]
  },
  {
   "cell_type": "code",
   "execution_count": 601,
   "metadata": {},
   "outputs": [],
   "source": [
    "df.loc[rate[0] == \"New\",'name'] = df.loc[rate[0] == \"New\",'name'].str.replace('★[\\w]{0,4}', \"★0.00\", regex=True)"
   ]
  },
  {
   "cell_type": "code",
   "execution_count": 602,
   "metadata": {},
   "outputs": [
    {
     "data": {
      "text/plain": [
       "3316     Home in Queens · ★0.00 · 1 bedroom · 1 bed · 1...\n",
       "3412     Rental unit in New York · ★0.00 · 1 bedroom · ...\n",
       "3763     Home in Brooklyn · ★0.00 · 5 bedrooms · 1 bed ...\n",
       "8217     Rental unit in Queens · ★0.00 · 1 bedroom · 1 ...\n",
       "8906     Condo in New York · ★0.00 · 1 bedroom · 2 beds...\n",
       "11685    Rental unit in Brooklyn · ★0.00 · Studio · 1 b...\n",
       "11821    Rental unit in New York · ★0.00 · 1 bedroom · ...\n",
       "13294    Guesthouse in Brooklyn · ★0.00 · 1 bedroom · 2...\n",
       "14479    Rental unit in Brooklyn · ★0.00 · Studio · 1 bath\n",
       "14556    Rental unit in New York · ★0.00 · 2 bedrooms ·...\n",
       "Name: name, dtype: object"
      ]
     },
     "execution_count": 602,
     "metadata": {},
     "output_type": "execute_result"
    }
   ],
   "source": [
    "df.loc[rate[0] == \"New\", 'name'].head(10)"
   ]
  },
  {
   "cell_type": "markdown",
   "metadata": {},
   "source": [
    "Add '★0.00' in 'name' column of the dataframe where rate value is missing"
   ]
  },
  {
   "cell_type": "code",
   "execution_count": 603,
   "metadata": {},
   "outputs": [],
   "source": [
    "name_list = [s.split(\"·\", 2) for s in df['name']]\n",
    "temp_list = name_list.copy()\n",
    "\n",
    "for i,l in enumerate(name_list):\n",
    "    s = np.where(\"★\" in l[1], \"·\".join(l), \"·\".join( [l[0], \" ★0.00 \"] + l[1:] ) )\n",
    "    temp_list[i] = str(s)"
   ]
  },
  {
   "cell_type": "code",
   "execution_count": 604,
   "metadata": {},
   "outputs": [],
   "source": [
    "df['name'] = temp_list"
   ]
  },
  {
   "cell_type": "markdown",
   "metadata": {},
   "source": [
    "Rate recalculation from clean dataframe"
   ]
  },
  {
   "cell_type": "code",
   "execution_count": 605,
   "metadata": {},
   "outputs": [
    {
     "data": {
      "text/plain": [
       "0\n",
       "0.00    17232\n",
       "5.0      3971\n",
       "4.67      804\n",
       "4.75      681\n",
       "4.83      611\n",
       "        ...  \n",
       "3.77        1\n",
       "4.02        1\n",
       "3.30        1\n",
       "3.36        1\n",
       "3.70        1\n",
       "Name: count, Length: 163, dtype: int64"
      ]
     },
     "execution_count": 605,
     "metadata": {},
     "output_type": "execute_result"
    }
   ],
   "source": [
    "rate = df[\"name\"].str.extract(r'★([\\d\\w\\.]{0,4}) ·')\n",
    "rate[0].value_counts()"
   ]
  },
  {
   "cell_type": "code",
   "execution_count": 606,
   "metadata": {},
   "outputs": [
    {
     "data": {
      "text/html": [
       "<div>\n",
       "<style scoped>\n",
       "    .dataframe tbody tr th:only-of-type {\n",
       "        vertical-align: middle;\n",
       "    }\n",
       "\n",
       "    .dataframe tbody tr th {\n",
       "        vertical-align: top;\n",
       "    }\n",
       "\n",
       "    .dataframe thead th {\n",
       "        text-align: right;\n",
       "    }\n",
       "</style>\n",
       "<table border=\"1\" class=\"dataframe\">\n",
       "  <thead>\n",
       "    <tr style=\"text-align: right;\">\n",
       "      <th></th>\n",
       "      <th>0</th>\n",
       "    </tr>\n",
       "  </thead>\n",
       "  <tbody>\n",
       "    <tr>\n",
       "      <th>0</th>\n",
       "      <td>Studio</td>\n",
       "    </tr>\n",
       "    <tr>\n",
       "      <th>1</th>\n",
       "      <td>1 bedroom</td>\n",
       "    </tr>\n",
       "    <tr>\n",
       "      <th>2</th>\n",
       "      <td>Studio</td>\n",
       "    </tr>\n",
       "    <tr>\n",
       "      <th>3</th>\n",
       "      <td>2 bedrooms</td>\n",
       "    </tr>\n",
       "    <tr>\n",
       "      <th>4</th>\n",
       "      <td>1 bedroom</td>\n",
       "    </tr>\n",
       "  </tbody>\n",
       "</table>\n",
       "</div>"
      ],
      "text/plain": [
       "            0\n",
       "0      Studio\n",
       "1   1 bedroom\n",
       "2      Studio\n",
       "3  2 bedrooms\n",
       "4   1 bedroom"
      ]
     },
     "execution_count": 606,
     "metadata": {},
     "output_type": "execute_result"
    }
   ],
   "source": [
    "room_type = df[\"name\"].str.extract(r'★[\\d\\.]{1,4} · ([\\d\\s\\w]+)')\n",
    "room_type[0] = room_type[0].str.rstrip()\n",
    "room_type.head()"
   ]
  },
  {
   "cell_type": "code",
   "execution_count": 607,
   "metadata": {},
   "outputs": [
    {
     "data": {
      "text/plain": [
       "0\n",
       "1 bedroom      26013\n",
       "2 bedrooms      6300\n",
       "Studio          3281\n",
       "3 bedrooms      2365\n",
       "4 bedrooms       800\n",
       "5 bedrooms       247\n",
       "6 bedrooms        62\n",
       "1 bed             34\n",
       "7 bedrooms        19\n",
       "9 bedrooms        11\n",
       "2 beds            10\n",
       "8 bedrooms         6\n",
       "3 beds             3\n",
       "10 bedrooms        2\n",
       "11 bedrooms        2\n",
       "14 bedrooms        1\n",
       "21 bedrooms        1\n",
       "26 bedrooms        1\n",
       "2 baths            1\n",
       "15 bedrooms        1\n",
       "Name: count, dtype: int64"
      ]
     },
     "execution_count": 607,
     "metadata": {},
     "output_type": "execute_result"
    }
   ],
   "source": [
    "room_type[0].value_counts()"
   ]
  },
  {
   "cell_type": "markdown",
   "metadata": {},
   "source": [
    "For all the bnb without a room type replace the type with '1 bedroom'"
   ]
  },
  {
   "cell_type": "code",
   "execution_count": 608,
   "metadata": {},
   "outputs": [],
   "source": [
    "room_type[0] = room_type[0].replace({\"2 baths\": \"1 bedroom\", \"1 bed\":\"1 bedroom\", \"2 beds\":\"1 bedroom\", \"3 beds\":\"1 bedroom\"})"
   ]
  },
  {
   "cell_type": "code",
   "execution_count": 609,
   "metadata": {},
   "outputs": [
    {
     "data": {
      "text/plain": [
       "0\n",
       "1 bedroom      26061\n",
       "2 bedrooms      6300\n",
       "Studio          3281\n",
       "3 bedrooms      2365\n",
       "4 bedrooms       800\n",
       "5 bedrooms       247\n",
       "6 bedrooms        62\n",
       "7 bedrooms        19\n",
       "9 bedrooms        11\n",
       "8 bedrooms         6\n",
       "10 bedrooms        2\n",
       "11 bedrooms        2\n",
       "14 bedrooms        1\n",
       "21 bedrooms        1\n",
       "26 bedrooms        1\n",
       "15 bedrooms        1\n",
       "Name: count, dtype: int64"
      ]
     },
     "execution_count": 609,
     "metadata": {},
     "output_type": "execute_result"
    }
   ],
   "source": [
    "room_type[0].value_counts()"
   ]
  },
  {
   "cell_type": "code",
   "execution_count": 610,
   "metadata": {},
   "outputs": [],
   "source": [
    "n_beds = df['name'].str.extract(r'([\\d\\.]+) bed[s]?\\s*')"
   ]
  },
  {
   "cell_type": "markdown",
   "metadata": {},
   "source": [
    "For the rows without beds the default value is 0"
   ]
  },
  {
   "cell_type": "code",
   "execution_count": 611,
   "metadata": {},
   "outputs": [],
   "source": [
    "n_beds.loc[n_beds[0].isna(), 0] = n_beds.loc[n_beds[0].isna(), 0].replace({np.nan: 0})"
   ]
  },
  {
   "cell_type": "code",
   "execution_count": 612,
   "metadata": {},
   "outputs": [
    {
     "data": {
      "text/plain": [
       "0\n",
       "1     28491\n",
       "2      6908\n",
       "3      2485\n",
       "4       818\n",
       "5       249\n",
       "0       102\n",
       "6        63\n",
       "7        19\n",
       "9        11\n",
       "8         6\n",
       "10        2\n",
       "11        2\n",
       "14        1\n",
       "21        1\n",
       "26        1\n",
       "15        1\n",
       "Name: count, dtype: int64"
      ]
     },
     "execution_count": 612,
     "metadata": {},
     "output_type": "execute_result"
    }
   ],
   "source": [
    "n_beds[0].value_counts()"
   ]
  },
  {
   "cell_type": "code",
   "execution_count": 613,
   "metadata": {},
   "outputs": [],
   "source": [
    "import re"
   ]
  },
  {
   "cell_type": "code",
   "execution_count": 614,
   "metadata": {},
   "outputs": [
    {
     "name": "stdout",
     "output_type": "stream",
     "text": [
      "('1 private bath', ' private')\n"
     ]
    }
   ],
   "source": [
    "s = 'Rental unit in New York · ★4.52 · Studio · 1 bed · 1 bath'\n",
    "s1 = 'Rental unit in New York · ★4.76 · 1 bedroom · 1 bed · 1 private bath'\n",
    "\n",
    "#print(re.findall(r'^.+\\s·\\s(\\d\\s[shared|private]?\\s[Half-]?bath?s?)', s1))\n",
    "print(re.findall(r'(\\d\\.?\\d?( shared| private)?\\s[Half-]?bath?s?)', s1)[0])"
   ]
  },
  {
   "cell_type": "code",
   "execution_count": 615,
   "metadata": {},
   "outputs": [],
   "source": [
    "names = df['name']"
   ]
  },
  {
   "cell_type": "code",
   "execution_count": 616,
   "metadata": {},
   "outputs": [],
   "source": [
    "baths = df['name'].str.extract(r'(\\d\\.?\\d?( shared| private)?\\s[Half-]?bath?s?)')[0].fillna('1 shared bath')"
   ]
  },
  {
   "cell_type": "code",
   "execution_count": 617,
   "metadata": {},
   "outputs": [
    {
     "data": {
      "text/plain": [
       "0\n",
       "1 bath              20317\n",
       "1 shared bath        8506\n",
       "2 baths              2907\n",
       "1 private bath       2823\n",
       "2 shared baths       1162\n",
       "1.5 baths            1104\n",
       "1.5 shared baths      621\n",
       "0 shared baths        436\n",
       "3 baths               387\n",
       "2.5 baths             361\n",
       "4 baths               138\n",
       "3 shared baths         83\n",
       "3.5 baths              78\n",
       "2.5 shared baths       77\n",
       "0 baths                55\n",
       "4.5 baths              37\n",
       "4 shared baths         30\n",
       "5 baths                15\n",
       "6 baths                 6\n",
       "5.5 baths               5\n",
       "6.5 baths               4\n",
       "4.5 shared baths        2\n",
       "3.5 shared baths        1\n",
       "7 baths                 1\n",
       "6 shared baths          1\n",
       "8.5 baths               1\n",
       "7.5 baths               1\n",
       "8 baths                 1\n",
       "Name: count, dtype: int64"
      ]
     },
     "execution_count": 617,
     "metadata": {},
     "output_type": "execute_result"
    }
   ],
   "source": [
    "baths.value_counts()"
   ]
  },
  {
   "cell_type": "code",
   "execution_count": 618,
   "metadata": {},
   "outputs": [],
   "source": [
    "baths = baths.replace('0 shared baths', '1 shared bath')\n",
    "baths = baths.replace('0 baths', '1 shared bath')"
   ]
  },
  {
   "cell_type": "code",
   "execution_count": 619,
   "metadata": {},
   "outputs": [
    {
     "data": {
      "text/plain": [
       "0\n",
       "1 bath              20317\n",
       "1 shared bath        8997\n",
       "2 baths              2907\n",
       "1 private bath       2823\n",
       "2 shared baths       1162\n",
       "1.5 baths            1104\n",
       "1.5 shared baths      621\n",
       "3 baths               387\n",
       "2.5 baths             361\n",
       "4 baths               138\n",
       "3 shared baths         83\n",
       "3.5 baths              78\n",
       "2.5 shared baths       77\n",
       "4.5 baths              37\n",
       "4 shared baths         30\n",
       "5 baths                15\n",
       "6 baths                 6\n",
       "5.5 baths               5\n",
       "6.5 baths               4\n",
       "4.5 shared baths        2\n",
       "3.5 shared baths        1\n",
       "7 baths                 1\n",
       "6 shared baths          1\n",
       "8.5 baths               1\n",
       "7.5 baths               1\n",
       "8 baths                 1\n",
       "Name: count, dtype: int64"
      ]
     },
     "execution_count": 619,
     "metadata": {},
     "output_type": "execute_result"
    }
   ],
   "source": [
    "baths.value_counts()"
   ]
  },
  {
   "cell_type": "markdown",
   "metadata": {},
   "source": [
    "There are rows with only \"bath\", \"shared Half-bath\" or other stuff like this. In this case I consider 0.5 when there is \"Half|half\", 0 otherwise."
   ]
  },
  {
   "cell_type": "code",
   "execution_count": 620,
   "metadata": {},
   "outputs": [
    {
     "data": {
      "text/plain": [
       "0        1\n",
       "1        1\n",
       "2        1\n",
       "3        1\n",
       "4        1\n",
       "        ..\n",
       "39155    2\n",
       "39156    1\n",
       "39157    1\n",
       "39158    1\n",
       "39159    1\n",
       "Name: 0, Length: 39160, dtype: int64"
      ]
     },
     "execution_count": 620,
     "metadata": {},
     "output_type": "execute_result"
    }
   ],
   "source": [
    "n_baths = baths.str.split(r'\\s').str[0].astype(dtype='float64').round().astype(dtype='int64')\n",
    "n_baths"
   ]
  },
  {
   "cell_type": "code",
   "execution_count": 621,
   "metadata": {},
   "outputs": [],
   "source": [
    "is_shared_bath = baths.str.split(r'\\s').str[1]\n",
    "is_shared_bath = is_shared_bath.map(lambda x: True if x == 'shared' else False)"
   ]
  },
  {
   "cell_type": "code",
   "execution_count": 622,
   "metadata": {},
   "outputs": [
    {
     "data": {
      "text/plain": [
       "0        False\n",
       "1         True\n",
       "2        False\n",
       "3        False\n",
       "4         True\n",
       "         ...  \n",
       "39155    False\n",
       "39156    False\n",
       "39157    False\n",
       "39158    False\n",
       "39159    False\n",
       "Name: 0, Length: 39160, dtype: bool"
      ]
     },
     "execution_count": 622,
     "metadata": {},
     "output_type": "execute_result"
    }
   ],
   "source": [
    "is_shared_bath"
   ]
  },
  {
   "cell_type": "markdown",
   "metadata": {},
   "source": [
    "## 6. Update dataframe with new columns"
   ]
  },
  {
   "cell_type": "code",
   "execution_count": 623,
   "metadata": {},
   "outputs": [],
   "source": [
    "df['name'] = name"
   ]
  },
  {
   "cell_type": "code",
   "execution_count": 624,
   "metadata": {},
   "outputs": [],
   "source": [
    "df['rate'] = rate.astype(dtype='float')"
   ]
  },
  {
   "cell_type": "code",
   "execution_count": 625,
   "metadata": {},
   "outputs": [],
   "source": [
    "df['room_type'] = room_type"
   ]
  },
  {
   "cell_type": "code",
   "execution_count": 626,
   "metadata": {},
   "outputs": [
    {
     "data": {
      "text/html": [
       "<div>\n",
       "<style scoped>\n",
       "    .dataframe tbody tr th:only-of-type {\n",
       "        vertical-align: middle;\n",
       "    }\n",
       "\n",
       "    .dataframe tbody tr th {\n",
       "        vertical-align: top;\n",
       "    }\n",
       "\n",
       "    .dataframe thead th {\n",
       "        text-align: right;\n",
       "    }\n",
       "</style>\n",
       "<table border=\"1\" class=\"dataframe\">\n",
       "  <thead>\n",
       "    <tr style=\"text-align: right;\">\n",
       "      <th></th>\n",
       "      <th>0</th>\n",
       "    </tr>\n",
       "  </thead>\n",
       "  <tbody>\n",
       "    <tr>\n",
       "      <th>0</th>\n",
       "      <td>1</td>\n",
       "    </tr>\n",
       "    <tr>\n",
       "      <th>1</th>\n",
       "      <td>1</td>\n",
       "    </tr>\n",
       "    <tr>\n",
       "      <th>2</th>\n",
       "      <td>1</td>\n",
       "    </tr>\n",
       "    <tr>\n",
       "      <th>3</th>\n",
       "      <td>2</td>\n",
       "    </tr>\n",
       "    <tr>\n",
       "      <th>4</th>\n",
       "      <td>1</td>\n",
       "    </tr>\n",
       "    <tr>\n",
       "      <th>...</th>\n",
       "      <td>...</td>\n",
       "    </tr>\n",
       "    <tr>\n",
       "      <th>39155</th>\n",
       "      <td>1</td>\n",
       "    </tr>\n",
       "    <tr>\n",
       "      <th>39156</th>\n",
       "      <td>1</td>\n",
       "    </tr>\n",
       "    <tr>\n",
       "      <th>39157</th>\n",
       "      <td>1</td>\n",
       "    </tr>\n",
       "    <tr>\n",
       "      <th>39158</th>\n",
       "      <td>2</td>\n",
       "    </tr>\n",
       "    <tr>\n",
       "      <th>39159</th>\n",
       "      <td>1</td>\n",
       "    </tr>\n",
       "  </tbody>\n",
       "</table>\n",
       "<p>39160 rows × 1 columns</p>\n",
       "</div>"
      ],
      "text/plain": [
       "       0\n",
       "0      1\n",
       "1      1\n",
       "2      1\n",
       "3      2\n",
       "4      1\n",
       "...   ..\n",
       "39155  1\n",
       "39156  1\n",
       "39157  1\n",
       "39158  2\n",
       "39159  1\n",
       "\n",
       "[39160 rows x 1 columns]"
      ]
     },
     "execution_count": 626,
     "metadata": {},
     "output_type": "execute_result"
    }
   ],
   "source": [
    "n_beds"
   ]
  },
  {
   "cell_type": "code",
   "execution_count": 627,
   "metadata": {},
   "outputs": [],
   "source": [
    "df['n_beds'] = n_beds[0].astype('int64')"
   ]
  },
  {
   "cell_type": "code",
   "execution_count": 628,
   "metadata": {},
   "outputs": [
    {
     "data": {
      "text/plain": [
       "1"
      ]
     },
     "execution_count": 628,
     "metadata": {},
     "output_type": "execute_result"
    }
   ],
   "source": [
    "n_baths[0]"
   ]
  },
  {
   "cell_type": "code",
   "execution_count": 629,
   "metadata": {},
   "outputs": [],
   "source": [
    "df['n_baths'] = n_baths[0]"
   ]
  },
  {
   "cell_type": "code",
   "execution_count": 630,
   "metadata": {},
   "outputs": [],
   "source": [
    "df['is_bath_shared'] = is_shared_bath"
   ]
  },
  {
   "cell_type": "code",
   "execution_count": 631,
   "metadata": {},
   "outputs": [
    {
     "data": {
      "text/html": [
       "<div>\n",
       "<style scoped>\n",
       "    .dataframe tbody tr th:only-of-type {\n",
       "        vertical-align: middle;\n",
       "    }\n",
       "\n",
       "    .dataframe tbody tr th {\n",
       "        vertical-align: top;\n",
       "    }\n",
       "\n",
       "    .dataframe thead th {\n",
       "        text-align: right;\n",
       "    }\n",
       "</style>\n",
       "<table border=\"1\" class=\"dataframe\">\n",
       "  <thead>\n",
       "    <tr style=\"text-align: right;\">\n",
       "      <th></th>\n",
       "      <th>id</th>\n",
       "      <th>name</th>\n",
       "      <th>host_id</th>\n",
       "      <th>host_name</th>\n",
       "      <th>neighbourhood_group</th>\n",
       "      <th>neighbourhood</th>\n",
       "      <th>latitude</th>\n",
       "      <th>longitude</th>\n",
       "      <th>bnb_type</th>\n",
       "      <th>price</th>\n",
       "      <th>...</th>\n",
       "      <th>reviews_per_month</th>\n",
       "      <th>calculated_host_listings_count</th>\n",
       "      <th>availability_365</th>\n",
       "      <th>number_of_reviews_ltm</th>\n",
       "      <th>license</th>\n",
       "      <th>rate</th>\n",
       "      <th>room_type</th>\n",
       "      <th>n_beds</th>\n",
       "      <th>n_baths</th>\n",
       "      <th>is_bath_shared</th>\n",
       "    </tr>\n",
       "  </thead>\n",
       "  <tbody>\n",
       "    <tr>\n",
       "      <th>0</th>\n",
       "      <td>2595</td>\n",
       "      <td>Rental unit in New York</td>\n",
       "      <td>2845</td>\n",
       "      <td>Jennifer</td>\n",
       "      <td>Manhattan</td>\n",
       "      <td>Midtown</td>\n",
       "      <td>40.75356</td>\n",
       "      <td>-73.98559</td>\n",
       "      <td>Entire home/apt</td>\n",
       "      <td>240</td>\n",
       "      <td>...</td>\n",
       "      <td>0.29</td>\n",
       "      <td>3</td>\n",
       "      <td>365</td>\n",
       "      <td>0</td>\n",
       "      <td>NaN</td>\n",
       "      <td>4.68</td>\n",
       "      <td>Studio</td>\n",
       "      <td>1</td>\n",
       "      <td>1</td>\n",
       "      <td>False</td>\n",
       "    </tr>\n",
       "    <tr>\n",
       "      <th>1</th>\n",
       "      <td>5121</td>\n",
       "      <td>Rental unit in Brooklyn</td>\n",
       "      <td>7356</td>\n",
       "      <td>Garon</td>\n",
       "      <td>Brooklyn</td>\n",
       "      <td>Bedford-Stuyvesant</td>\n",
       "      <td>40.68535</td>\n",
       "      <td>-73.95512</td>\n",
       "      <td>Private room</td>\n",
       "      <td>66</td>\n",
       "      <td>...</td>\n",
       "      <td>0.28</td>\n",
       "      <td>2</td>\n",
       "      <td>120</td>\n",
       "      <td>0</td>\n",
       "      <td>NaN</td>\n",
       "      <td>4.52</td>\n",
       "      <td>1 bedroom</td>\n",
       "      <td>1</td>\n",
       "      <td>1</td>\n",
       "      <td>True</td>\n",
       "    </tr>\n",
       "    <tr>\n",
       "      <th>2</th>\n",
       "      <td>9357</td>\n",
       "      <td>Rental unit in New York</td>\n",
       "      <td>30193</td>\n",
       "      <td>Tommi</td>\n",
       "      <td>Manhattan</td>\n",
       "      <td>Hell's Kitchen</td>\n",
       "      <td>40.76724</td>\n",
       "      <td>-73.98664</td>\n",
       "      <td>Entire home/apt</td>\n",
       "      <td>175</td>\n",
       "      <td>...</td>\n",
       "      <td>0.34</td>\n",
       "      <td>1</td>\n",
       "      <td>340</td>\n",
       "      <td>0</td>\n",
       "      <td>NaN</td>\n",
       "      <td>4.52</td>\n",
       "      <td>Studio</td>\n",
       "      <td>1</td>\n",
       "      <td>1</td>\n",
       "      <td>False</td>\n",
       "    </tr>\n",
       "    <tr>\n",
       "      <th>3</th>\n",
       "      <td>6848</td>\n",
       "      <td>Rental unit in Brooklyn</td>\n",
       "      <td>15991</td>\n",
       "      <td>Allen &amp; Irina</td>\n",
       "      <td>Brooklyn</td>\n",
       "      <td>Williamsburg</td>\n",
       "      <td>40.70935</td>\n",
       "      <td>-73.95342</td>\n",
       "      <td>Entire home/apt</td>\n",
       "      <td>81</td>\n",
       "      <td>...</td>\n",
       "      <td>1.09</td>\n",
       "      <td>1</td>\n",
       "      <td>110</td>\n",
       "      <td>5</td>\n",
       "      <td>NaN</td>\n",
       "      <td>4.58</td>\n",
       "      <td>2 bedrooms</td>\n",
       "      <td>2</td>\n",
       "      <td>1</td>\n",
       "      <td>False</td>\n",
       "    </tr>\n",
       "    <tr>\n",
       "      <th>4</th>\n",
       "      <td>10452</td>\n",
       "      <td>Rental unit in Brooklyn</td>\n",
       "      <td>35935</td>\n",
       "      <td>Angela</td>\n",
       "      <td>Brooklyn</td>\n",
       "      <td>Bedford-Stuyvesant</td>\n",
       "      <td>40.68294</td>\n",
       "      <td>-73.95682</td>\n",
       "      <td>Private room</td>\n",
       "      <td>90</td>\n",
       "      <td>...</td>\n",
       "      <td>0.49</td>\n",
       "      <td>4</td>\n",
       "      <td>290</td>\n",
       "      <td>2</td>\n",
       "      <td>NaN</td>\n",
       "      <td>4.65</td>\n",
       "      <td>1 bedroom</td>\n",
       "      <td>1</td>\n",
       "      <td>1</td>\n",
       "      <td>True</td>\n",
       "    </tr>\n",
       "  </tbody>\n",
       "</table>\n",
       "<p>5 rows × 23 columns</p>\n",
       "</div>"
      ],
      "text/plain": [
       "      id                     name  host_id      host_name neighbourhood_group  \\\n",
       "0   2595  Rental unit in New York     2845       Jennifer           Manhattan   \n",
       "1   5121  Rental unit in Brooklyn     7356          Garon            Brooklyn   \n",
       "2   9357  Rental unit in New York    30193          Tommi           Manhattan   \n",
       "3   6848  Rental unit in Brooklyn    15991  Allen & Irina            Brooklyn   \n",
       "4  10452  Rental unit in Brooklyn    35935         Angela            Brooklyn   \n",
       "\n",
       "        neighbourhood  latitude  longitude         bnb_type  price  ...  \\\n",
       "0             Midtown  40.75356  -73.98559  Entire home/apt    240  ...   \n",
       "1  Bedford-Stuyvesant  40.68535  -73.95512     Private room     66  ...   \n",
       "2      Hell's Kitchen  40.76724  -73.98664  Entire home/apt    175  ...   \n",
       "3        Williamsburg  40.70935  -73.95342  Entire home/apt     81  ...   \n",
       "4  Bedford-Stuyvesant  40.68294  -73.95682     Private room     90  ...   \n",
       "\n",
       "   reviews_per_month  calculated_host_listings_count availability_365  \\\n",
       "0               0.29                               3              365   \n",
       "1               0.28                               2              120   \n",
       "2               0.34                               1              340   \n",
       "3               1.09                               1              110   \n",
       "4               0.49                               4              290   \n",
       "\n",
       "   number_of_reviews_ltm  license  rate   room_type n_beds  n_baths  \\\n",
       "0                      0      NaN  4.68      Studio      1        1   \n",
       "1                      0      NaN  4.52   1 bedroom      1        1   \n",
       "2                      0      NaN  4.52      Studio      1        1   \n",
       "3                      5      NaN  4.58  2 bedrooms      2        1   \n",
       "4                      2      NaN  4.65   1 bedroom      1        1   \n",
       "\n",
       "  is_bath_shared  \n",
       "0          False  \n",
       "1           True  \n",
       "2          False  \n",
       "3          False  \n",
       "4           True  \n",
       "\n",
       "[5 rows x 23 columns]"
      ]
     },
     "execution_count": 631,
     "metadata": {},
     "output_type": "execute_result"
    }
   ],
   "source": [
    "df.head()"
   ]
  },
  {
   "cell_type": "code",
   "execution_count": 632,
   "metadata": {},
   "outputs": [
    {
     "name": "stdout",
     "output_type": "stream",
     "text": [
      "<class 'pandas.core.frame.DataFrame'>\n",
      "RangeIndex: 39160 entries, 0 to 39159\n",
      "Data columns (total 23 columns):\n",
      " #   Column                          Non-Null Count  Dtype  \n",
      "---  ------                          --------------  -----  \n",
      " 0   id                              39160 non-null  int64  \n",
      " 1   name                            39160 non-null  object \n",
      " 2   host_id                         39160 non-null  int64  \n",
      " 3   host_name                       39155 non-null  object \n",
      " 4   neighbourhood_group             39160 non-null  object \n",
      " 5   neighbourhood                   39160 non-null  object \n",
      " 6   latitude                        39160 non-null  float64\n",
      " 7   longitude                       39160 non-null  float64\n",
      " 8   bnb_type                        39160 non-null  object \n",
      " 9   price                           39160 non-null  int64  \n",
      " 10  minimum_nights                  39160 non-null  int64  \n",
      " 11  number_of_reviews               39160 non-null  int64  \n",
      " 12  last_review                     28211 non-null  object \n",
      " 13  reviews_per_month               28211 non-null  float64\n",
      " 14  calculated_host_listings_count  39160 non-null  int64  \n",
      " 15  availability_365                39160 non-null  int64  \n",
      " 16  number_of_reviews_ltm           39160 non-null  int64  \n",
      " 17  license                         3879 non-null   object \n",
      " 18  rate                            39160 non-null  float64\n",
      " 19  room_type                       39160 non-null  object \n",
      " 20  n_beds                          39160 non-null  int64  \n",
      " 21  n_baths                         39160 non-null  int64  \n",
      " 22  is_bath_shared                  39160 non-null  bool   \n",
      "dtypes: bool(1), float64(4), int64(10), object(8)\n",
      "memory usage: 6.6+ MB\n"
     ]
    }
   ],
   "source": [
    "df.info()"
   ]
  },
  {
   "cell_type": "code",
   "execution_count": 633,
   "metadata": {},
   "outputs": [],
   "source": [
    "df.to_csv('../out/listings.csv', index=False)"
   ]
  }
 ],
 "metadata": {
  "kernelspec": {
   "display_name": "Python 3",
   "language": "python",
   "name": "python3"
  },
  "language_info": {
   "codemirror_mode": {
    "name": "ipython",
    "version": 3
   },
   "file_extension": ".py",
   "mimetype": "text/x-python",
   "name": "python",
   "nbconvert_exporter": "python",
   "pygments_lexer": "ipython3",
   "version": "0.0.0"
  }
 },
 "nbformat": 4,
 "nbformat_minor": 2
}
